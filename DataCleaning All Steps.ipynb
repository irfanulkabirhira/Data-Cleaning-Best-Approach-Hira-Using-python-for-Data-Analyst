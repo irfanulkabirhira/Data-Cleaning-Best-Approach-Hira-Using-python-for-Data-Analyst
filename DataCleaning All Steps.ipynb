{
 "cells": [
  {
   "cell_type": "markdown",
   "id": "fec098a1-8e6e-4aa8-9948-4a492d20b258",
   "metadata": {},
   "source": [
    "# 1st Dataset [ Load ]"
   ]
  },
  {
   "cell_type": "markdown",
   "id": "74a6ca07-ee82-4cb9-9b14-465d56fc09b3",
   "metadata": {},
   "source": [
    "# 💡Importing pandas for Handling the Missing value"
   ]
  },
  {
   "cell_type": "code",
   "execution_count": 1,
   "id": "337d9fd0-6bbf-4427-8583-25ec944347a9",
   "metadata": {},
   "outputs": [
    {
     "data": {
      "text/html": [
       "<div>\n",
       "<style scoped>\n",
       "    .dataframe tbody tr th:only-of-type {\n",
       "        vertical-align: middle;\n",
       "    }\n",
       "\n",
       "    .dataframe tbody tr th {\n",
       "        vertical-align: top;\n",
       "    }\n",
       "\n",
       "    .dataframe thead th {\n",
       "        text-align: right;\n",
       "    }\n",
       "</style>\n",
       "<table border=\"1\" class=\"dataframe\">\n",
       "  <thead>\n",
       "    <tr style=\"text-align: right;\">\n",
       "      <th></th>\n",
       "      <th>Loan_ID</th>\n",
       "      <th>Gender</th>\n",
       "      <th>Married</th>\n",
       "      <th>Dependents</th>\n",
       "      <th>Education</th>\n",
       "      <th>Self_Employed</th>\n",
       "      <th>ApplicantIncome</th>\n",
       "      <th>CoapplicantIncome</th>\n",
       "      <th>LoanAmount</th>\n",
       "      <th>Loan_Amount_Term</th>\n",
       "      <th>Credit_History</th>\n",
       "      <th>Property_Area</th>\n",
       "      <th>Loan_Status</th>\n",
       "    </tr>\n",
       "  </thead>\n",
       "  <tbody>\n",
       "    <tr>\n",
       "      <th>0</th>\n",
       "      <td>LP001002</td>\n",
       "      <td>Male</td>\n",
       "      <td>No</td>\n",
       "      <td>0</td>\n",
       "      <td>Graduate</td>\n",
       "      <td>No</td>\n",
       "      <td>5849</td>\n",
       "      <td>0.0</td>\n",
       "      <td>NaN</td>\n",
       "      <td>360.0</td>\n",
       "      <td>1.0</td>\n",
       "      <td>Urban</td>\n",
       "      <td>Y</td>\n",
       "    </tr>\n",
       "    <tr>\n",
       "      <th>1</th>\n",
       "      <td>LP001003</td>\n",
       "      <td>Male</td>\n",
       "      <td>Yes</td>\n",
       "      <td>1</td>\n",
       "      <td>Graduate</td>\n",
       "      <td>No</td>\n",
       "      <td>4583</td>\n",
       "      <td>1508.0</td>\n",
       "      <td>128.0</td>\n",
       "      <td>360.0</td>\n",
       "      <td>1.0</td>\n",
       "      <td>Rural</td>\n",
       "      <td>N</td>\n",
       "    </tr>\n",
       "  </tbody>\n",
       "</table>\n",
       "</div>"
      ],
      "text/plain": [
       "    Loan_ID Gender Married Dependents Education Self_Employed  \\\n",
       "0  LP001002   Male      No          0  Graduate            No   \n",
       "1  LP001003   Male     Yes          1  Graduate            No   \n",
       "\n",
       "   ApplicantIncome  CoapplicantIncome  LoanAmount  Loan_Amount_Term  \\\n",
       "0             5849                0.0         NaN             360.0   \n",
       "1             4583             1508.0       128.0             360.0   \n",
       "\n",
       "   Credit_History Property_Area Loan_Status  \n",
       "0             1.0         Urban           Y  \n",
       "1             1.0         Rural           N  "
      ]
     },
     "execution_count": 1,
     "metadata": {},
     "output_type": "execute_result"
    }
   ],
   "source": [
    "import pandas as pd \n",
    "dataset= pd.read_csv(r'C:\\Users\\hirak\\Downloads\\Data Cleaning For Data Analyst\\loan.csv')\n",
    "dataset.head(2)"
   ]
  },
  {
   "cell_type": "code",
   "execution_count": 2,
   "id": "2531746c-62a3-4ee3-b166-8eea5075acdd",
   "metadata": {},
   "outputs": [
    {
     "data": {
      "text/plain": [
       "(614, 13)"
      ]
     },
     "execution_count": 2,
     "metadata": {},
     "output_type": "execute_result"
    }
   ],
   "source": [
    "dataset.shape"
   ]
  },
  {
   "cell_type": "markdown",
   "id": "f4475e17-21c1-4cd0-864c-422ebdb037a0",
   "metadata": {},
   "source": [
    "# ✅Step 1 : Removing Null values"
   ]
  },
  {
   "cell_type": "markdown",
   "id": "37346c5f-dd89-486e-81af-2703074089ff",
   "metadata": {},
   "source": [
    "### 📍Check Null value exist or not "
   ]
  },
  {
   "cell_type": "code",
   "execution_count": 3,
   "id": "6c0dc23d-faa4-4048-b46c-c48cfa38473c",
   "metadata": {},
   "outputs": [
    {
     "data": {
      "text/plain": [
       "Loan_ID               0\n",
       "Gender               13\n",
       "Married               3\n",
       "Dependents           15\n",
       "Education             0\n",
       "Self_Employed        32\n",
       "ApplicantIncome       0\n",
       "CoapplicantIncome     0\n",
       "LoanAmount           22\n",
       "Loan_Amount_Term     14\n",
       "Credit_History       50\n",
       "Property_Area         0\n",
       "Loan_Status           0\n",
       "dtype: int64"
      ]
     },
     "execution_count": 3,
     "metadata": {},
     "output_type": "execute_result"
    }
   ],
   "source": [
    "dataset.isnull().sum()"
   ]
  },
  {
   "cell_type": "markdown",
   "id": "2c66c9c1-92fa-41f5-88e7-33854878b06a",
   "metadata": {},
   "source": [
    "### 📍Total presnt of Null Value "
   ]
  },
  {
   "cell_type": "code",
   "execution_count": 4,
   "id": "a84106d0-a5e0-4d05-9f62-442ab76663e9",
   "metadata": {},
   "outputs": [
    {
     "data": {
      "text/plain": [
       "149"
      ]
     },
     "execution_count": 4,
     "metadata": {},
     "output_type": "execute_result"
    }
   ],
   "source": [
    "dataset.isnull().sum().sum()"
   ]
  },
  {
   "cell_type": "markdown",
   "id": "bb92056e-8abe-4410-95d7-1d199fd12001",
   "metadata": {},
   "source": [
    "### 📍Show Null value as percentage"
   ]
  },
  {
   "cell_type": "code",
   "execution_count": 5,
   "id": "a835a61a-92e8-4ee2-bcb7-aeb30e4623c2",
   "metadata": {},
   "outputs": [
    {
     "data": {
      "text/plain": [
       "Loan_ID              0.000000\n",
       "Gender               2.117264\n",
       "Married              0.488599\n",
       "Dependents           2.442997\n",
       "Education            0.000000\n",
       "Self_Employed        5.211726\n",
       "ApplicantIncome      0.000000\n",
       "CoapplicantIncome    0.000000\n",
       "LoanAmount           3.583062\n",
       "Loan_Amount_Term     2.280130\n",
       "Credit_History       8.143322\n",
       "Property_Area        0.000000\n",
       "Loan_Status          0.000000\n",
       "dtype: float64"
      ]
     },
     "execution_count": 5,
     "metadata": {},
     "output_type": "execute_result"
    }
   ],
   "source": [
    "dataset.isnull().sum()/dataset.shape[0]*100"
   ]
  },
  {
   "cell_type": "markdown",
   "id": "3d198cab-2d40-4ed2-8903-cf80f5216ee2",
   "metadata": {},
   "source": [
    "### 📍Show Total Null value as percentage"
   ]
  },
  {
   "cell_type": "code",
   "execution_count": 6,
   "id": "032443f3-c594-4ba6-b511-71bdc7a61cd8",
   "metadata": {},
   "outputs": [
    {
     "data": {
      "text/plain": [
       "1.8667000751691305"
      ]
     },
     "execution_count": 6,
     "metadata": {},
     "output_type": "execute_result"
    }
   ],
   "source": [
    "(dataset.isnull().sum().sum()/(dataset.shape[0]*dataset.shape[1]))*100"
   ]
  },
  {
   "cell_type": "markdown",
   "id": "38e3342f-8dad-4b0a-9606-e5d2d59acdca",
   "metadata": {},
   "source": [
    "### 📍Koto gula Not Null Value ache "
   ]
  },
  {
   "cell_type": "code",
   "execution_count": 7,
   "id": "bd2dd0fb-1b05-4186-88e4-fe9188b231f4",
   "metadata": {},
   "outputs": [
    {
     "data": {
      "text/plain": [
       "7833"
      ]
     },
     "execution_count": 7,
     "metadata": {},
     "output_type": "execute_result"
    }
   ],
   "source": [
    "dataset.notnull().sum().sum()"
   ]
  },
  {
   "cell_type": "markdown",
   "id": "8d5266f8-342e-44b3-ba6d-757c0b469f6a",
   "metadata": {},
   "source": [
    "## To show the graphical representation of Null value "
   ]
  },
  {
   "cell_type": "code",
   "execution_count": 8,
   "id": "24b2b38a-0e42-4b7c-a3e1-08081b8b349d",
   "metadata": {},
   "outputs": [
    {
     "data": {
      "image/png": "[encoded data removed]",
      "text/plain": [
       "<Figure size 640x480 with 2 Axes>"
      ]
     },
     "metadata": {},
     "output_type": "display_data"
    }
   ],
   "source": [
    "import seaborn as sns \n",
    "import matplotlib.pyplot as plt\n",
    "\n",
    "sns.heatmap(dataset.isnull())\n",
    "plt.show()"
   ]
  },
  {
   "cell_type": "markdown",
   "id": "dded0461-6103-4cde-8896-9544435a9790",
   "metadata": {},
   "source": [
    "### 📍Null value removing --> Removing those Rows"
   ]
  },
  {
   "cell_type": "code",
   "execution_count": 9,
   "id": "04ae8b3c-0e6d-494b-b935-38180266f410",
   "metadata": {},
   "outputs": [],
   "source": [
    "dataset.dropna(inplace=True)"
   ]
  },
  {
   "cell_type": "code",
   "execution_count": 10,
   "id": "8c79d841-142d-4ec5-8d1b-872f4afa50fe",
   "metadata": {},
   "outputs": [
    {
     "data": {
      "text/plain": [
       "Loan_ID              0\n",
       "Gender               0\n",
       "Married              0\n",
       "Dependents           0\n",
       "Education            0\n",
       "Self_Employed        0\n",
       "ApplicantIncome      0\n",
       "CoapplicantIncome    0\n",
       "LoanAmount           0\n",
       "Loan_Amount_Term     0\n",
       "Credit_History       0\n",
       "Property_Area        0\n",
       "Loan_Status          0\n",
       "dtype: int64"
      ]
     },
     "execution_count": 10,
     "metadata": {},
     "output_type": "execute_result"
    }
   ],
   "source": [
    "dataset.isnull().sum()"
   ]
  },
  {
   "cell_type": "code",
   "execution_count": 11,
   "id": "c254f4e4-6a40-4b96-8768-7e28c50d4018",
   "metadata": {},
   "outputs": [
    {
     "data": {
      "text/plain": [
       "(480, 13)"
      ]
     },
     "execution_count": 11,
     "metadata": {},
     "output_type": "execute_result"
    }
   ],
   "source": [
    "dataset.shape"
   ]
  },
  {
   "cell_type": "markdown",
   "id": "fdb6a634-da12-4477-b58d-d84360dc0d14",
   "metadata": {},
   "source": [
    "# ✅Step 2 : Remiving Duplicate Rows"
   ]
  },
  {
   "cell_type": "markdown",
   "id": "ec3dcc58-7f02-4067-8fc1-f9b16c2150cf",
   "metadata": {},
   "source": [
    "### 📍check Duplicate value\n"
   ]
  },
  {
   "cell_type": "code",
   "execution_count": 12,
   "id": "27437c12-8465-4103-9942-c3100d5cc600",
   "metadata": {},
   "outputs": [
    {
     "data": {
      "text/plain": [
       "0"
      ]
     },
     "execution_count": 12,
     "metadata": {},
     "output_type": "execute_result"
    }
   ],
   "source": [
    "dataset.duplicated().sum()"
   ]
  },
  {
   "cell_type": "markdown",
   "id": "4a62f88f-3210-47c1-956b-c56facd36f38",
   "metadata": {},
   "source": [
    "### 📍If Duplicte Values were existed , then removing procedure \n"
   ]
  },
  {
   "cell_type": "code",
   "execution_count": 13,
   "id": "abafffcb-afed-4fb8-b8fd-4da2dd813d75",
   "metadata": {},
   "outputs": [],
   "source": [
    "dataset.drop_duplicates(inplace=True)"
   ]
  },
  {
   "cell_type": "markdown",
   "id": "a725fa8a-e144-4102-a3bf-f8ecd8c135f8",
   "metadata": {},
   "source": [
    "# ✅Step3 : Changing the Datatype if needed "
   ]
  },
  {
   "cell_type": "code",
   "execution_count": 14,
   "id": "db4d25d2-d969-4800-b8be-fc4a119ca2fc",
   "metadata": {},
   "outputs": [
    {
     "data": {
      "text/plain": [
       "Loan_ID               object\n",
       "Gender                object\n",
       "Married               object\n",
       "Dependents            object\n",
       "Education             object\n",
       "Self_Employed         object\n",
       "ApplicantIncome        int64\n",
       "CoapplicantIncome    float64\n",
       "LoanAmount           float64\n",
       "Loan_Amount_Term     float64\n",
       "Credit_History       float64\n",
       "Property_Area         object\n",
       "Loan_Status           object\n",
       "dtype: object"
      ]
     },
     "execution_count": 14,
     "metadata": {},
     "output_type": "execute_result"
    }
   ],
   "source": [
    "dataset.dtypes"
   ]
  },
  {
   "cell_type": "markdown",
   "id": "9b7719de-3a4a-48f1-972f-41fb3ab39435",
   "metadata": {},
   "source": [
    "### 📍Convert LoanAmount to integer\n"
   ]
  },
  {
   "cell_type": "code",
   "execution_count": 15,
   "id": "d23f939f-74b2-4010-a099-5f891a12aeb6",
   "metadata": {},
   "outputs": [],
   "source": [
    "dataset['LoanAmount'] = dataset['LoanAmount'].astype(int)"
   ]
  },
  {
   "cell_type": "code",
   "execution_count": 16,
   "id": "97b431bc-ae1d-4b7f-ab44-18fa49e2664a",
   "metadata": {},
   "outputs": [
    {
     "data": {
      "text/plain": [
       "Loan_ID               object\n",
       "Gender                object\n",
       "Married               object\n",
       "Dependents            object\n",
       "Education             object\n",
       "Self_Employed         object\n",
       "ApplicantIncome        int64\n",
       "CoapplicantIncome    float64\n",
       "LoanAmount             int32\n",
       "Loan_Amount_Term     float64\n",
       "Credit_History       float64\n",
       "Property_Area         object\n",
       "Loan_Status           object\n",
       "dtype: object"
      ]
     },
     "execution_count": 16,
     "metadata": {},
     "output_type": "execute_result"
    }
   ],
   "source": [
    "dataset.dtypes"
   ]
  },
  {
   "cell_type": "code",
   "execution_count": 17,
   "id": "840c0c56-232d-4b85-9410-f8040f1188d3",
   "metadata": {},
   "outputs": [
    {
     "data": {
      "text/html": [
       "<div>\n",
       "<style scoped>\n",
       "    .dataframe tbody tr th:only-of-type {\n",
       "        vertical-align: middle;\n",
       "    }\n",
       "\n",
       "    .dataframe tbody tr th {\n",
       "        vertical-align: top;\n",
       "    }\n",
       "\n",
       "    .dataframe thead th {\n",
       "        text-align: right;\n",
       "    }\n",
       "</style>\n",
       "<table border=\"1\" class=\"dataframe\">\n",
       "  <thead>\n",
       "    <tr style=\"text-align: right;\">\n",
       "      <th></th>\n",
       "      <th>Loan_ID</th>\n",
       "      <th>Gender</th>\n",
       "      <th>Married</th>\n",
       "      <th>Dependents</th>\n",
       "      <th>Education</th>\n",
       "      <th>Self_Employed</th>\n",
       "      <th>ApplicantIncome</th>\n",
       "      <th>CoapplicantIncome</th>\n",
       "      <th>LoanAmount</th>\n",
       "      <th>Loan_Amount_Term</th>\n",
       "      <th>Credit_History</th>\n",
       "      <th>Property_Area</th>\n",
       "      <th>Loan_Status</th>\n",
       "    </tr>\n",
       "  </thead>\n",
       "  <tbody>\n",
       "    <tr>\n",
       "      <th>1</th>\n",
       "      <td>LP001003</td>\n",
       "      <td>Male</td>\n",
       "      <td>Yes</td>\n",
       "      <td>1</td>\n",
       "      <td>Graduate</td>\n",
       "      <td>No</td>\n",
       "      <td>4583</td>\n",
       "      <td>1508.0</td>\n",
       "      <td>128</td>\n",
       "      <td>360.0</td>\n",
       "      <td>1.0</td>\n",
       "      <td>Rural</td>\n",
       "      <td>N</td>\n",
       "    </tr>\n",
       "  </tbody>\n",
       "</table>\n",
       "</div>"
      ],
      "text/plain": [
       "    Loan_ID Gender Married Dependents Education Self_Employed  \\\n",
       "1  LP001003   Male     Yes          1  Graduate            No   \n",
       "\n",
       "   ApplicantIncome  CoapplicantIncome  LoanAmount  Loan_Amount_Term  \\\n",
       "1             4583             1508.0         128             360.0   \n",
       "\n",
       "   Credit_History Property_Area Loan_Status  \n",
       "1             1.0         Rural           N  "
      ]
     },
     "execution_count": 17,
     "metadata": {},
     "output_type": "execute_result"
    }
   ],
   "source": [
    "dataset.head(1)"
   ]
  },
  {
   "cell_type": "markdown",
   "id": "5663b7cd-fb8b-42aa-b147-362456f582a0",
   "metadata": {},
   "source": [
    "# ✅Step 4 : Removing Column "
   ]
  },
  {
   "cell_type": "code",
   "execution_count": 18,
   "id": "4090d7e6-48bd-456b-87de-3da8ada0b5bf",
   "metadata": {},
   "outputs": [],
   "source": [
    "dataset.drop(columns = ['Credit_History'],inplace=True)"
   ]
  },
  {
   "cell_type": "code",
   "execution_count": 19,
   "id": "739655b0-ee11-4ea5-9d3b-ce9f53068d83",
   "metadata": {},
   "outputs": [
    {
     "data": {
      "text/html": [
       "<div>\n",
       "<style scoped>\n",
       "    .dataframe tbody tr th:only-of-type {\n",
       "        vertical-align: middle;\n",
       "    }\n",
       "\n",
       "    .dataframe tbody tr th {\n",
       "        vertical-align: top;\n",
       "    }\n",
       "\n",
       "    .dataframe thead th {\n",
       "        text-align: right;\n",
       "    }\n",
       "</style>\n",
       "<table border=\"1\" class=\"dataframe\">\n",
       "  <thead>\n",
       "    <tr style=\"text-align: right;\">\n",
       "      <th></th>\n",
       "      <th>Loan_ID</th>\n",
       "      <th>Gender</th>\n",
       "      <th>Married</th>\n",
       "      <th>Dependents</th>\n",
       "      <th>Education</th>\n",
       "      <th>Self_Employed</th>\n",
       "      <th>ApplicantIncome</th>\n",
       "      <th>CoapplicantIncome</th>\n",
       "      <th>LoanAmount</th>\n",
       "      <th>Loan_Amount_Term</th>\n",
       "      <th>Property_Area</th>\n",
       "      <th>Loan_Status</th>\n",
       "    </tr>\n",
       "  </thead>\n",
       "  <tbody>\n",
       "    <tr>\n",
       "      <th>1</th>\n",
       "      <td>LP001003</td>\n",
       "      <td>Male</td>\n",
       "      <td>Yes</td>\n",
       "      <td>1</td>\n",
       "      <td>Graduate</td>\n",
       "      <td>No</td>\n",
       "      <td>4583</td>\n",
       "      <td>1508.0</td>\n",
       "      <td>128</td>\n",
       "      <td>360.0</td>\n",
       "      <td>Rural</td>\n",
       "      <td>N</td>\n",
       "    </tr>\n",
       "    <tr>\n",
       "      <th>2</th>\n",
       "      <td>LP001005</td>\n",
       "      <td>Male</td>\n",
       "      <td>Yes</td>\n",
       "      <td>0</td>\n",
       "      <td>Graduate</td>\n",
       "      <td>Yes</td>\n",
       "      <td>3000</td>\n",
       "      <td>0.0</td>\n",
       "      <td>66</td>\n",
       "      <td>360.0</td>\n",
       "      <td>Urban</td>\n",
       "      <td>Y</td>\n",
       "    </tr>\n",
       "  </tbody>\n",
       "</table>\n",
       "</div>"
      ],
      "text/plain": [
       "    Loan_ID Gender Married Dependents Education Self_Employed  \\\n",
       "1  LP001003   Male     Yes          1  Graduate            No   \n",
       "2  LP001005   Male     Yes          0  Graduate           Yes   \n",
       "\n",
       "   ApplicantIncome  CoapplicantIncome  LoanAmount  Loan_Amount_Term  \\\n",
       "1             4583             1508.0         128             360.0   \n",
       "2             3000                0.0          66             360.0   \n",
       "\n",
       "  Property_Area Loan_Status  \n",
       "1         Rural           N  \n",
       "2         Urban           Y  "
      ]
     },
     "execution_count": 19,
     "metadata": {},
     "output_type": "execute_result"
    }
   ],
   "source": [
    "dataset.head(2)"
   ]
  },
  {
   "cell_type": "markdown",
   "id": "7ec76055-e9b5-4e5b-9aac-e0dc7accb472",
   "metadata": {},
   "source": [
    "# ✅Step 5 : Renaming Column "
   ]
  },
  {
   "cell_type": "code",
   "execution_count": 20,
   "id": "22cba401-2f42-4992-b30d-bf29f5caf785",
   "metadata": {},
   "outputs": [],
   "source": [
    "dataset.rename(columns={'Property_Area' : 'Area'}, inplace=True) "
   ]
  },
  {
   "cell_type": "code",
   "execution_count": 21,
   "id": "b3d78f8f-8032-4154-96b2-792ab647766a",
   "metadata": {},
   "outputs": [
    {
     "data": {
      "text/plain": [
       "Index(['Loan_ID', 'Gender', 'Married', 'Dependents', 'Education',\n",
       "       'Self_Employed', 'ApplicantIncome', 'CoapplicantIncome', 'LoanAmount',\n",
       "       'Loan_Amount_Term', 'Area', 'Loan_Status'],\n",
       "      dtype='object')"
      ]
     },
     "execution_count": 21,
     "metadata": {},
     "output_type": "execute_result"
    }
   ],
   "source": [
    "dataset.columns"
   ]
  },
  {
   "cell_type": "code",
   "execution_count": 22,
   "id": "1163a4ff-3029-4e7b-a912-7678378b3c43",
   "metadata": {},
   "outputs": [
    {
     "data": {
      "text/html": [
       "<div>\n",
       "<style scoped>\n",
       "    .dataframe tbody tr th:only-of-type {\n",
       "        vertical-align: middle;\n",
       "    }\n",
       "\n",
       "    .dataframe tbody tr th {\n",
       "        vertical-align: top;\n",
       "    }\n",
       "\n",
       "    .dataframe thead th {\n",
       "        text-align: right;\n",
       "    }\n",
       "</style>\n",
       "<table border=\"1\" class=\"dataframe\">\n",
       "  <thead>\n",
       "    <tr style=\"text-align: right;\">\n",
       "      <th></th>\n",
       "      <th>Loan_ID</th>\n",
       "      <th>Gender</th>\n",
       "      <th>Married</th>\n",
       "      <th>Dependents</th>\n",
       "      <th>Education</th>\n",
       "      <th>Self_Employed</th>\n",
       "      <th>ApplicantIncome</th>\n",
       "      <th>CoapplicantIncome</th>\n",
       "      <th>LoanAmount</th>\n",
       "      <th>Loan_Amount_Term</th>\n",
       "      <th>Area</th>\n",
       "      <th>Loan_Status</th>\n",
       "    </tr>\n",
       "  </thead>\n",
       "  <tbody>\n",
       "    <tr>\n",
       "      <th>1</th>\n",
       "      <td>LP001003</td>\n",
       "      <td>Male</td>\n",
       "      <td>Yes</td>\n",
       "      <td>1</td>\n",
       "      <td>Graduate</td>\n",
       "      <td>No</td>\n",
       "      <td>4583</td>\n",
       "      <td>1508.0</td>\n",
       "      <td>128</td>\n",
       "      <td>360.0</td>\n",
       "      <td>Rural</td>\n",
       "      <td>N</td>\n",
       "    </tr>\n",
       "  </tbody>\n",
       "</table>\n",
       "</div>"
      ],
      "text/plain": [
       "    Loan_ID Gender Married Dependents Education Self_Employed  \\\n",
       "1  LP001003   Male     Yes          1  Graduate            No   \n",
       "\n",
       "   ApplicantIncome  CoapplicantIncome  LoanAmount  Loan_Amount_Term   Area  \\\n",
       "1             4583             1508.0         128             360.0  Rural   \n",
       "\n",
       "  Loan_Status  \n",
       "1           N  "
      ]
     },
     "execution_count": 22,
     "metadata": {},
     "output_type": "execute_result"
    }
   ],
   "source": [
    "dataset.head(1)"
   ]
  },
  {
   "cell_type": "markdown",
   "id": "b2450dfa-037f-490b-bbeb-0a56ca2847a6",
   "metadata": {},
   "source": [
    "# ✅Step 6 : Merging Columns (if needed)"
   ]
  },
  {
   "cell_type": "code",
   "execution_count": 23,
   "id": "6a02fec8-5f12-447c-b88f-3e3cbf916817",
   "metadata": {},
   "outputs": [],
   "source": [
    "dataset['Gender_self_employment'] = dataset['Gender']+ '_'+ dataset['Self_Employed']"
   ]
  },
  {
   "cell_type": "code",
   "execution_count": 24,
   "id": "f09dd80f-538c-4eaa-8e4b-356eed21f35b",
   "metadata": {},
   "outputs": [
    {
     "data": {
      "text/html": [
       "<div>\n",
       "<style scoped>\n",
       "    .dataframe tbody tr th:only-of-type {\n",
       "        vertical-align: middle;\n",
       "    }\n",
       "\n",
       "    .dataframe tbody tr th {\n",
       "        vertical-align: top;\n",
       "    }\n",
       "\n",
       "    .dataframe thead th {\n",
       "        text-align: right;\n",
       "    }\n",
       "</style>\n",
       "<table border=\"1\" class=\"dataframe\">\n",
       "  <thead>\n",
       "    <tr style=\"text-align: right;\">\n",
       "      <th></th>\n",
       "      <th>Loan_ID</th>\n",
       "      <th>Gender</th>\n",
       "      <th>Married</th>\n",
       "      <th>Dependents</th>\n",
       "      <th>Education</th>\n",
       "      <th>Self_Employed</th>\n",
       "      <th>ApplicantIncome</th>\n",
       "      <th>CoapplicantIncome</th>\n",
       "      <th>LoanAmount</th>\n",
       "      <th>Loan_Amount_Term</th>\n",
       "      <th>Area</th>\n",
       "      <th>Loan_Status</th>\n",
       "      <th>Gender_self_employment</th>\n",
       "    </tr>\n",
       "  </thead>\n",
       "  <tbody>\n",
       "    <tr>\n",
       "      <th>1</th>\n",
       "      <td>LP001003</td>\n",
       "      <td>Male</td>\n",
       "      <td>Yes</td>\n",
       "      <td>1</td>\n",
       "      <td>Graduate</td>\n",
       "      <td>No</td>\n",
       "      <td>4583</td>\n",
       "      <td>1508.0</td>\n",
       "      <td>128</td>\n",
       "      <td>360.0</td>\n",
       "      <td>Rural</td>\n",
       "      <td>N</td>\n",
       "      <td>Male_No</td>\n",
       "    </tr>\n",
       "  </tbody>\n",
       "</table>\n",
       "</div>"
      ],
      "text/plain": [
       "    Loan_ID Gender Married Dependents Education Self_Employed  \\\n",
       "1  LP001003   Male     Yes          1  Graduate            No   \n",
       "\n",
       "   ApplicantIncome  CoapplicantIncome  LoanAmount  Loan_Amount_Term   Area  \\\n",
       "1             4583             1508.0         128             360.0  Rural   \n",
       "\n",
       "  Loan_Status Gender_self_employment  \n",
       "1           N                Male_No  "
      ]
     },
     "execution_count": 24,
     "metadata": {},
     "output_type": "execute_result"
    }
   ],
   "source": [
    "dataset.head(1)"
   ]
  },
  {
   "cell_type": "markdown",
   "id": "41a36156-4ce8-4981-b038-a2df289581fd",
   "metadata": {},
   "source": [
    "# ✅Step 7 : Splitting columns (if needed)"
   ]
  },
  {
   "cell_type": "markdown",
   "id": "d4b86cae-fc4a-476b-a4f9-7d704301064f",
   "metadata": {},
   "source": [
    "## 🍅in this dataset it's not needed🍅\n",
    "\n",
    "\n"
   ]
  },
  {
   "cell_type": "markdown",
   "id": "317dd8f6-7b39-4730-9186-b2107102ab72",
   "metadata": {},
   "source": [
    "# ✅Step 8 : Sorting Column ( if needed)"
   ]
  },
  {
   "cell_type": "markdown",
   "id": "71a667a7-b21e-4fc5-836f-e1429339ab72",
   "metadata": {},
   "source": [
    "### 📍 Sort by LoanAmount in ascending order"
   ]
  },
  {
   "cell_type": "code",
   "execution_count": 25,
   "id": "574970fa-0b09-4e7e-8bcd-ef409d21208c",
   "metadata": {},
   "outputs": [],
   "source": [
    "dataset.sort_values(by='LoanAmount', inplace=True)"
   ]
  },
  {
   "cell_type": "markdown",
   "id": "0b588c13-d92f-49e4-b66f-4cdc418be631",
   "metadata": {},
   "source": [
    "### 📍Sort by LoanAmount in descending order\n"
   ]
  },
  {
   "cell_type": "code",
   "execution_count": 26,
   "id": "81be85d6-28bf-4183-b4ee-666c4855958e",
   "metadata": {},
   "outputs": [],
   "source": [
    "dataset.sort_values(by='LoanAmount', ascending=False, inplace=True)"
   ]
  },
  {
   "cell_type": "markdown",
   "id": "03ce6808-872c-4c35-9ac4-ca2f974353c4",
   "metadata": {},
   "source": [
    "# ✅9th step: Filtering my dataset (if needed)"
   ]
  },
  {
   "cell_type": "markdown",
   "id": "207adae0-2880-4fc5-982f-33f18cd130ad",
   "metadata": {},
   "source": [
    "###  📍Example 1: Filter where LoanAmount < 200"
   ]
  },
  {
   "cell_type": "code",
   "execution_count": 27,
   "id": "79db8aaf-249d-44be-9a68-9041353ff6e4",
   "metadata": {},
   "outputs": [
    {
     "data": {
      "text/html": [
       "<div>\n",
       "<style scoped>\n",
       "    .dataframe tbody tr th:only-of-type {\n",
       "        vertical-align: middle;\n",
       "    }\n",
       "\n",
       "    .dataframe tbody tr th {\n",
       "        vertical-align: top;\n",
       "    }\n",
       "\n",
       "    .dataframe thead th {\n",
       "        text-align: right;\n",
       "    }\n",
       "</style>\n",
       "<table border=\"1\" class=\"dataframe\">\n",
       "  <thead>\n",
       "    <tr style=\"text-align: right;\">\n",
       "      <th></th>\n",
       "      <th>Loan_ID</th>\n",
       "      <th>Gender</th>\n",
       "      <th>Married</th>\n",
       "      <th>Dependents</th>\n",
       "      <th>Education</th>\n",
       "      <th>Self_Employed</th>\n",
       "      <th>ApplicantIncome</th>\n",
       "      <th>CoapplicantIncome</th>\n",
       "      <th>LoanAmount</th>\n",
       "      <th>Loan_Amount_Term</th>\n",
       "      <th>Area</th>\n",
       "      <th>Loan_Status</th>\n",
       "      <th>Gender_self_employment</th>\n",
       "    </tr>\n",
       "  </thead>\n",
       "  <tbody>\n",
       "    <tr>\n",
       "      <th>404</th>\n",
       "      <td>LP002301</td>\n",
       "      <td>Female</td>\n",
       "      <td>No</td>\n",
       "      <td>0</td>\n",
       "      <td>Graduate</td>\n",
       "      <td>Yes</td>\n",
       "      <td>7441</td>\n",
       "      <td>0.0</td>\n",
       "      <td>194</td>\n",
       "      <td>360.0</td>\n",
       "      <td>Rural</td>\n",
       "      <td>N</td>\n",
       "      <td>Female_Yes</td>\n",
       "    </tr>\n",
       "    <tr>\n",
       "      <th>124</th>\n",
       "      <td>LP001439</td>\n",
       "      <td>Male</td>\n",
       "      <td>Yes</td>\n",
       "      <td>0</td>\n",
       "      <td>Not Graduate</td>\n",
       "      <td>No</td>\n",
       "      <td>4300</td>\n",
       "      <td>2014.0</td>\n",
       "      <td>194</td>\n",
       "      <td>360.0</td>\n",
       "      <td>Rural</td>\n",
       "      <td>Y</td>\n",
       "      <td>Male_No</td>\n",
       "    </tr>\n",
       "  </tbody>\n",
       "</table>\n",
       "</div>"
      ],
      "text/plain": [
       "      Loan_ID  Gender Married Dependents     Education Self_Employed  \\\n",
       "404  LP002301  Female      No          0      Graduate           Yes   \n",
       "124  LP001439    Male     Yes          0  Not Graduate            No   \n",
       "\n",
       "     ApplicantIncome  CoapplicantIncome  LoanAmount  Loan_Amount_Term   Area  \\\n",
       "404             7441                0.0         194             360.0  Rural   \n",
       "124             4300             2014.0         194             360.0  Rural   \n",
       "\n",
       "    Loan_Status Gender_self_employment  \n",
       "404           N             Female_Yes  \n",
       "124           Y                Male_No  "
      ]
     },
     "execution_count": 27,
     "metadata": {},
     "output_type": "execute_result"
    }
   ],
   "source": [
    "Filter = dataset[dataset['LoanAmount'] < 200] \n",
    "Filter.head(2)"
   ]
  },
  {
   "cell_type": "markdown",
   "id": "9b62faab-c12e-4b51-8f99-0400ea0aa650",
   "metadata": {},
   "source": [
    "### 📍Example 2: Filter where Gender is 'Male'"
   ]
  },
  {
   "cell_type": "code",
   "execution_count": 28,
   "id": "3f567d92-856b-482c-a2a4-73e2794d2885",
   "metadata": {},
   "outputs": [
    {
     "data": {
      "text/html": [
       "<div>\n",
       "<style scoped>\n",
       "    .dataframe tbody tr th:only-of-type {\n",
       "        vertical-align: middle;\n",
       "    }\n",
       "\n",
       "    .dataframe tbody tr th {\n",
       "        vertical-align: top;\n",
       "    }\n",
       "\n",
       "    .dataframe thead th {\n",
       "        text-align: right;\n",
       "    }\n",
       "</style>\n",
       "<table border=\"1\" class=\"dataframe\">\n",
       "  <thead>\n",
       "    <tr style=\"text-align: right;\">\n",
       "      <th></th>\n",
       "      <th>Loan_ID</th>\n",
       "      <th>Gender</th>\n",
       "      <th>Married</th>\n",
       "      <th>Dependents</th>\n",
       "      <th>Education</th>\n",
       "      <th>Self_Employed</th>\n",
       "      <th>ApplicantIncome</th>\n",
       "      <th>CoapplicantIncome</th>\n",
       "      <th>LoanAmount</th>\n",
       "      <th>Loan_Amount_Term</th>\n",
       "      <th>Area</th>\n",
       "      <th>Loan_Status</th>\n",
       "      <th>Gender_self_employment</th>\n",
       "    </tr>\n",
       "  </thead>\n",
       "  <tbody>\n",
       "    <tr>\n",
       "      <th>155</th>\n",
       "      <td>LP001536</td>\n",
       "      <td>Male</td>\n",
       "      <td>Yes</td>\n",
       "      <td>3+</td>\n",
       "      <td>Graduate</td>\n",
       "      <td>No</td>\n",
       "      <td>39999</td>\n",
       "      <td>0.0</td>\n",
       "      <td>600</td>\n",
       "      <td>180.0</td>\n",
       "      <td>Semiurban</td>\n",
       "      <td>Y</td>\n",
       "      <td>Male_No</td>\n",
       "    </tr>\n",
       "    <tr>\n",
       "      <th>369</th>\n",
       "      <td>LP002191</td>\n",
       "      <td>Male</td>\n",
       "      <td>Yes</td>\n",
       "      <td>0</td>\n",
       "      <td>Graduate</td>\n",
       "      <td>No</td>\n",
       "      <td>19730</td>\n",
       "      <td>5266.0</td>\n",
       "      <td>570</td>\n",
       "      <td>360.0</td>\n",
       "      <td>Rural</td>\n",
       "      <td>N</td>\n",
       "      <td>Male_No</td>\n",
       "    </tr>\n",
       "  </tbody>\n",
       "</table>\n",
       "</div>"
      ],
      "text/plain": [
       "      Loan_ID Gender Married Dependents Education Self_Employed  \\\n",
       "155  LP001536   Male     Yes         3+  Graduate            No   \n",
       "369  LP002191   Male     Yes          0  Graduate            No   \n",
       "\n",
       "     ApplicantIncome  CoapplicantIncome  LoanAmount  Loan_Amount_Term  \\\n",
       "155            39999                0.0         600             180.0   \n",
       "369            19730             5266.0         570             360.0   \n",
       "\n",
       "          Area Loan_Status Gender_self_employment  \n",
       "155  Semiurban           Y                Male_No  \n",
       "369      Rural           N                Male_No  "
      ]
     },
     "execution_count": 28,
     "metadata": {},
     "output_type": "execute_result"
    }
   ],
   "source": [
    "Filter = dataset[dataset['Gender']== 'Male']\n",
    "Filter.head(2)"
   ]
  },
  {
   "cell_type": "markdown",
   "id": "4f879d05-f0be-492b-984f-81d422f8596b",
   "metadata": {},
   "source": [
    "### 📍Example 3: Filter where Area is 'Urban' and LoanAmount > 150"
   ]
  },
  {
   "cell_type": "code",
   "execution_count": 29,
   "id": "844669ab-a7b2-4c5b-bb1d-b9d52b130133",
   "metadata": {},
   "outputs": [
    {
     "data": {
      "text/html": [
       "<div>\n",
       "<style scoped>\n",
       "    .dataframe tbody tr th:only-of-type {\n",
       "        vertical-align: middle;\n",
       "    }\n",
       "\n",
       "    .dataframe tbody tr th {\n",
       "        vertical-align: top;\n",
       "    }\n",
       "\n",
       "    .dataframe thead th {\n",
       "        text-align: right;\n",
       "    }\n",
       "</style>\n",
       "<table border=\"1\" class=\"dataframe\">\n",
       "  <thead>\n",
       "    <tr style=\"text-align: right;\">\n",
       "      <th></th>\n",
       "      <th>Loan_ID</th>\n",
       "      <th>Gender</th>\n",
       "      <th>Married</th>\n",
       "      <th>Dependents</th>\n",
       "      <th>Education</th>\n",
       "      <th>Self_Employed</th>\n",
       "      <th>ApplicantIncome</th>\n",
       "      <th>CoapplicantIncome</th>\n",
       "      <th>LoanAmount</th>\n",
       "      <th>Loan_Amount_Term</th>\n",
       "      <th>Area</th>\n",
       "      <th>Loan_Status</th>\n",
       "      <th>Gender_self_employment</th>\n",
       "    </tr>\n",
       "  </thead>\n",
       "  <tbody>\n",
       "    <tr>\n",
       "      <th>487</th>\n",
       "      <td>LP002547</td>\n",
       "      <td>Male</td>\n",
       "      <td>Yes</td>\n",
       "      <td>1</td>\n",
       "      <td>Graduate</td>\n",
       "      <td>No</td>\n",
       "      <td>18333</td>\n",
       "      <td>0.0</td>\n",
       "      <td>500</td>\n",
       "      <td>360.0</td>\n",
       "      <td>Urban</td>\n",
       "      <td>N</td>\n",
       "      <td>Male_No</td>\n",
       "    </tr>\n",
       "    <tr>\n",
       "      <th>536</th>\n",
       "      <td>LP002734</td>\n",
       "      <td>Male</td>\n",
       "      <td>Yes</td>\n",
       "      <td>0</td>\n",
       "      <td>Graduate</td>\n",
       "      <td>No</td>\n",
       "      <td>6133</td>\n",
       "      <td>3906.0</td>\n",
       "      <td>324</td>\n",
       "      <td>360.0</td>\n",
       "      <td>Urban</td>\n",
       "      <td>Y</td>\n",
       "      <td>Male_No</td>\n",
       "    </tr>\n",
       "  </tbody>\n",
       "</table>\n",
       "</div>"
      ],
      "text/plain": [
       "      Loan_ID Gender Married Dependents Education Self_Employed  \\\n",
       "487  LP002547   Male     Yes          1  Graduate            No   \n",
       "536  LP002734   Male     Yes          0  Graduate            No   \n",
       "\n",
       "     ApplicantIncome  CoapplicantIncome  LoanAmount  Loan_Amount_Term   Area  \\\n",
       "487            18333                0.0         500             360.0  Urban   \n",
       "536             6133             3906.0         324             360.0  Urban   \n",
       "\n",
       "    Loan_Status Gender_self_employment  \n",
       "487           N                Male_No  \n",
       "536           Y                Male_No  "
      ]
     },
     "execution_count": 29,
     "metadata": {},
     "output_type": "execute_result"
    }
   ],
   "source": [
    "Filter = dataset[(dataset['Area']== 'Urban') & (dataset['LoanAmount'] > 150)]\n",
    "Filter.head(2)"
   ]
  },
  {
   "cell_type": "markdown",
   "id": "8109b45d-d5ec-4e32-9983-ea08ced67582",
   "metadata": {},
   "source": [
    "# ✅Finaly import the Cleaned Data "
   ]
  },
  {
   "cell_type": "code",
   "execution_count": 30,
   "id": "3babe1f6-7988-4dd1-9a42-d5a4eb45ea35",
   "metadata": {},
   "outputs": [],
   "source": [
    "dataset.to_csv(r'C:\\Users\\hirak\\Downloads\\Data Cleaning For Data Analyst\\Cleaned_Load_Data.csv')"
   ]
  },
  {
   "cell_type": "markdown",
   "id": "2bcd10cd-0bb6-4dd8-9ea9-70672404fc6f",
   "metadata": {},
   "source": [
    "# 2nd Dataset Cleaning [ Car price Dataset ]"
   ]
  },
  {
   "cell_type": "markdown",
   "id": "7e803b69-2a8a-4089-af74-f17d75d7f20e",
   "metadata": {},
   "source": [
    "# 💡Importing pandas for Handling the Missing value"
   ]
  },
  {
   "cell_type": "code",
   "execution_count": 364,
   "id": "fdc1e1ae-37b9-4bad-b5d5-7569aeb02516",
   "metadata": {},
   "outputs": [
    {
     "data": {
      "text/html": [
       "<div>\n",
       "<style scoped>\n",
       "    .dataframe tbody tr th:only-of-type {\n",
       "        vertical-align: middle;\n",
       "    }\n",
       "\n",
       "    .dataframe tbody tr th {\n",
       "        vertical-align: top;\n",
       "    }\n",
       "\n",
       "    .dataframe thead th {\n",
       "        text-align: right;\n",
       "    }\n",
       "</style>\n",
       "<table border=\"1\" class=\"dataframe\">\n",
       "  <thead>\n",
       "    <tr style=\"text-align: right;\">\n",
       "      <th></th>\n",
       "      <th>car_name</th>\n",
       "      <th>car_prices_in_rupee</th>\n",
       "      <th>kms_driven</th>\n",
       "      <th>fuel_type</th>\n",
       "      <th>transmission</th>\n",
       "      <th>ownership</th>\n",
       "      <th>manufacture</th>\n",
       "      <th>engine</th>\n",
       "      <th>Seats</th>\n",
       "    </tr>\n",
       "  </thead>\n",
       "  <tbody>\n",
       "    <tr>\n",
       "      <th>0</th>\n",
       "      <td>Jeep Compass 2.0 Longitude Option BSIV</td>\n",
       "      <td>10.03 Lakh</td>\n",
       "      <td>86,226 kms</td>\n",
       "      <td>Diesel</td>\n",
       "      <td>Manual</td>\n",
       "      <td>1st Owner</td>\n",
       "      <td>January-15-2017</td>\n",
       "      <td>1956 cc</td>\n",
       "      <td>5 Seats</td>\n",
       "    </tr>\n",
       "    <tr>\n",
       "      <th>1</th>\n",
       "      <td>Renault Duster RXZ Turbo CVT</td>\n",
       "      <td>NaN</td>\n",
       "      <td>13,248 kms</td>\n",
       "      <td>Petrol</td>\n",
       "      <td>Automatic</td>\n",
       "      <td>1st Owner</td>\n",
       "      <td>January-15-2018</td>\n",
       "      <td>1330 cc</td>\n",
       "      <td>5 Seats</td>\n",
       "    </tr>\n",
       "  </tbody>\n",
       "</table>\n",
       "</div>"
      ],
      "text/plain": [
       "                                 car_name car_prices_in_rupee  kms_driven  \\\n",
       "0  Jeep Compass 2.0 Longitude Option BSIV          10.03 Lakh  86,226 kms   \n",
       "1            Renault Duster RXZ Turbo CVT                 NaN  13,248 kms   \n",
       "\n",
       "  fuel_type transmission  ownership      manufacture   engine    Seats  \n",
       "0    Diesel       Manual  1st Owner  January-15-2017  1956 cc  5 Seats  \n",
       "1    Petrol    Automatic  1st Owner  January-15-2018  1330 cc  5 Seats  "
      ]
     },
     "execution_count": 364,
     "metadata": {},
     "output_type": "execute_result"
    }
   ],
   "source": [
    "import pandas as plt \n",
    "data = pd.read_csv(\"Car_Price_MyOwn_Data.csv\")\n",
    "data.head(2)"
   ]
  },
  {
   "cell_type": "code",
   "execution_count": 365,
   "id": "350166e2-710f-4668-8381-8c419d4130d6",
   "metadata": {},
   "outputs": [
    {
     "data": {
      "text/plain": [
       "(6, 9)"
      ]
     },
     "execution_count": 365,
     "metadata": {},
     "output_type": "execute_result"
    }
   ],
   "source": [
    "data.shape"
   ]
  },
  {
   "cell_type": "markdown",
   "id": "6cee814d-5a2a-4be9-b68d-a1d12833640d",
   "metadata": {},
   "source": [
    "### To See the DataType"
   ]
  },
  {
   "cell_type": "code",
   "execution_count": 366,
   "id": "dd5c2f1a-0fe4-4073-9aec-cd66c4e610d5",
   "metadata": {},
   "outputs": [
    {
     "name": "stdout",
     "output_type": "stream",
     "text": [
      "<class 'pandas.core.frame.DataFrame'>\n",
      "RangeIndex: 6 entries, 0 to 5\n",
      "Data columns (total 9 columns):\n",
      " #   Column               Non-Null Count  Dtype \n",
      "---  ------               --------------  ----- \n",
      " 0   car_name             6 non-null      object\n",
      " 1   car_prices_in_rupee  5 non-null      object\n",
      " 2   kms_driven           6 non-null      object\n",
      " 3   fuel_type            6 non-null      object\n",
      " 4   transmission         6 non-null      object\n",
      " 5   ownership            6 non-null      object\n",
      " 6   manufacture          6 non-null      object\n",
      " 7   engine               6 non-null      object\n",
      " 8   Seats                6 non-null      object\n",
      "dtypes: object(9)\n",
      "memory usage: 564.0+ bytes\n"
     ]
    }
   ],
   "source": [
    "data.info()"
   ]
  },
  {
   "cell_type": "markdown",
   "id": "a27be00e-163c-4d98-adff-0c6c9080c82b",
   "metadata": {},
   "source": [
    "# ✅Step 1 : Removing Null values"
   ]
  },
  {
   "cell_type": "markdown",
   "id": "24bdcdf6-ec23-4eaf-9ed5-5b567a0db4a7",
   "metadata": {},
   "source": [
    "### 📍Check Null value exist or not "
   ]
  },
  {
   "cell_type": "code",
   "execution_count": 367,
   "id": "91f94425-ea1d-4f84-a100-c8f8040c5433",
   "metadata": {},
   "outputs": [
    {
     "data": {
      "text/plain": [
       "car_name               0\n",
       "car_prices_in_rupee    1\n",
       "kms_driven             0\n",
       "fuel_type              0\n",
       "transmission           0\n",
       "ownership              0\n",
       "manufacture            0\n",
       "engine                 0\n",
       "Seats                  0\n",
       "dtype: int64"
      ]
     },
     "execution_count": 367,
     "metadata": {},
     "output_type": "execute_result"
    }
   ],
   "source": [
    "data.isnull().sum()"
   ]
  },
  {
   "cell_type": "markdown",
   "id": "71d30ce7-3c7c-4881-bd66-dd5145f01e6c",
   "metadata": {},
   "source": [
    "### 📍Total presnt of Null Value "
   ]
  },
  {
   "cell_type": "code",
   "execution_count": 368,
   "id": "d8147290-7e76-47d4-a450-293ca1f52057",
   "metadata": {},
   "outputs": [
    {
     "data": {
      "text/plain": [
       "1"
      ]
     },
     "execution_count": 368,
     "metadata": {},
     "output_type": "execute_result"
    }
   ],
   "source": [
    "data.isnull().sum().sum()"
   ]
  },
  {
   "cell_type": "markdown",
   "id": "e1a9e738-534e-4f69-9ef6-bccd63b0c54a",
   "metadata": {},
   "source": [
    "### 📍Show Null value as percentage"
   ]
  },
  {
   "cell_type": "code",
   "execution_count": 369,
   "id": "eba90e9a-b52f-40d5-8e44-390f14ff796f",
   "metadata": {},
   "outputs": [
    {
     "data": {
      "text/plain": [
       "car_name                0.000000\n",
       "car_prices_in_rupee    16.666667\n",
       "kms_driven              0.000000\n",
       "fuel_type               0.000000\n",
       "transmission            0.000000\n",
       "ownership               0.000000\n",
       "manufacture             0.000000\n",
       "engine                  0.000000\n",
       "Seats                   0.000000\n",
       "dtype: float64"
      ]
     },
     "execution_count": 369,
     "metadata": {},
     "output_type": "execute_result"
    }
   ],
   "source": [
    "data.isnull().sum()/data.shape[0]*100"
   ]
  },
  {
   "cell_type": "markdown",
   "id": "cf414a3d-0f0c-4a3d-94a1-f9d16a1c0916",
   "metadata": {},
   "source": [
    "### 📍Show Total Null value as percentage"
   ]
  },
  {
   "cell_type": "code",
   "execution_count": 370,
   "id": "80f820cf-efb4-4732-a1e8-11f88b683160",
   "metadata": {},
   "outputs": [
    {
     "data": {
      "text/plain": [
       "1.8518518518518516"
      ]
     },
     "execution_count": 370,
     "metadata": {},
     "output_type": "execute_result"
    }
   ],
   "source": [
    "(data.isnull().sum().sum()/(data.shape[0]*data.shape[1]))*100"
   ]
  },
  {
   "cell_type": "markdown",
   "id": "19152e6f-1634-4a88-884b-520a34e77d2a",
   "metadata": {},
   "source": [
    "### 📍Koto gula Not Null Value ache "
   ]
  },
  {
   "cell_type": "code",
   "execution_count": 371,
   "id": "afaacd29-023c-41ea-a4a1-6c956258c726",
   "metadata": {},
   "outputs": [
    {
     "data": {
      "text/plain": [
       "53"
      ]
     },
     "execution_count": 371,
     "metadata": {},
     "output_type": "execute_result"
    }
   ],
   "source": [
    "data.notnull().sum().sum()"
   ]
  },
  {
   "cell_type": "markdown",
   "id": "ec5f5530-579d-47ba-b096-bfc0486b56a8",
   "metadata": {},
   "source": [
    "## To show the graphical representation of Null value "
   ]
  },
  {
   "cell_type": "code",
   "execution_count": 372,
   "id": "c4925f13-c63b-4349-8171-699d7aa15371",
   "metadata": {},
   "outputs": [
    {
     "data": {
      "image/png": "[encoded data removed]",
      "text/plain": [
       "<Figure size 640x480 with 2 Axes>"
      ]
     },
     "metadata": {},
     "output_type": "display_data"
    }
   ],
   "source": [
    "import seaborn as sns \n",
    "import matplotlib.pyplot as plt \n",
    "\n",
    "sns.heatmap(data.isnull())\n",
    "plt.show()"
   ]
  },
  {
   "cell_type": "markdown",
   "id": "92375675-dc39-45cf-9a3f-77560b681e25",
   "metadata": {},
   "source": [
    "### 📍Null value removing --> Removing those Rows"
   ]
  },
  {
   "cell_type": "code",
   "execution_count": 373,
   "id": "8c5b4b7f-337a-41c9-89d9-f8645ab41870",
   "metadata": {},
   "outputs": [],
   "source": [
    "data.dropna(inplace=True)"
   ]
  },
  {
   "cell_type": "code",
   "execution_count": 374,
   "id": "c3cf472a-b7d4-4322-b15d-73ad392619ad",
   "metadata": {},
   "outputs": [
    {
     "data": {
      "text/plain": [
       "car_name               0\n",
       "car_prices_in_rupee    0\n",
       "kms_driven             0\n",
       "fuel_type              0\n",
       "transmission           0\n",
       "ownership              0\n",
       "manufacture            0\n",
       "engine                 0\n",
       "Seats                  0\n",
       "dtype: int64"
      ]
     },
     "execution_count": 374,
     "metadata": {},
     "output_type": "execute_result"
    }
   ],
   "source": [
    "data.isnull().sum()"
   ]
  },
  {
   "cell_type": "code",
   "execution_count": 375,
   "id": "d2e9d1f4-baf6-4369-be05-9a248b8063ae",
   "metadata": {},
   "outputs": [
    {
     "data": {
      "text/plain": [
       "(5, 9)"
      ]
     },
     "execution_count": 375,
     "metadata": {},
     "output_type": "execute_result"
    }
   ],
   "source": [
    "data.shape"
   ]
  },
  {
   "cell_type": "markdown",
   "id": "e151fa27-915c-451e-ae13-fd207821330b",
   "metadata": {},
   "source": [
    "# ✅Step 2: Removing Duplicate Values"
   ]
  },
  {
   "cell_type": "markdown",
   "id": "3ee53606-cc57-4b1f-b3bb-a3fc03b6fffc",
   "metadata": {},
   "source": [
    "### 📍Check Duplicate Values"
   ]
  },
  {
   "cell_type": "code",
   "execution_count": 376,
   "id": "ccfaddcb-9a59-4598-8126-bb39e60b383c",
   "metadata": {},
   "outputs": [
    {
     "data": {
      "text/plain": [
       "0"
      ]
     },
     "execution_count": 376,
     "metadata": {},
     "output_type": "execute_result"
    }
   ],
   "source": [
    "data.duplicated().sum()"
   ]
  },
  {
   "cell_type": "markdown",
   "id": "52b31fff-3e85-479c-9701-7162d1613fb6",
   "metadata": {},
   "source": [
    "### 📍If Duplicte Values"
   ]
  },
  {
   "cell_type": "code",
   "execution_count": 377,
   "id": "c293e8c0-3fea-4742-84f8-7c56abfb8ae7",
   "metadata": {},
   "outputs": [],
   "source": [
    "data.drop_duplicates(inplace=True)"
   ]
  },
  {
   "cell_type": "markdown",
   "id": "eafe30f3-41e9-4c0f-bc30-04a9915ff7e6",
   "metadata": {},
   "source": [
    "# ✅Step 3 : Changing the Datatype if needed "
   ]
  },
  {
   "cell_type": "code",
   "execution_count": 378,
   "id": "dbf429f2-880c-4112-9636-8a33b68c39bf",
   "metadata": {},
   "outputs": [
    {
     "data": {
      "text/plain": [
       "car_name               object\n",
       "car_prices_in_rupee    object\n",
       "kms_driven             object\n",
       "fuel_type              object\n",
       "transmission           object\n",
       "ownership              object\n",
       "manufacture            object\n",
       "engine                 object\n",
       "Seats                  object\n",
       "dtype: object"
      ]
     },
     "execution_count": 378,
     "metadata": {},
     "output_type": "execute_result"
    }
   ],
   "source": [
    "data.dtypes"
   ]
  },
  {
   "cell_type": "code",
   "execution_count": 379,
   "id": "17f10cd7-9b2e-4d67-837d-02880ff75976",
   "metadata": {},
   "outputs": [
    {
     "data": {
      "text/html": [
       "<div>\n",
       "<style scoped>\n",
       "    .dataframe tbody tr th:only-of-type {\n",
       "        vertical-align: middle;\n",
       "    }\n",
       "\n",
       "    .dataframe tbody tr th {\n",
       "        vertical-align: top;\n",
       "    }\n",
       "\n",
       "    .dataframe thead th {\n",
       "        text-align: right;\n",
       "    }\n",
       "</style>\n",
       "<table border=\"1\" class=\"dataframe\">\n",
       "  <thead>\n",
       "    <tr style=\"text-align: right;\">\n",
       "      <th></th>\n",
       "      <th>car_name</th>\n",
       "      <th>car_prices_in_rupee</th>\n",
       "      <th>kms_driven</th>\n",
       "      <th>fuel_type</th>\n",
       "      <th>transmission</th>\n",
       "      <th>ownership</th>\n",
       "      <th>manufacture</th>\n",
       "      <th>engine</th>\n",
       "      <th>Seats</th>\n",
       "    </tr>\n",
       "  </thead>\n",
       "  <tbody>\n",
       "    <tr>\n",
       "      <th>0</th>\n",
       "      <td>Jeep Compass 2.0 Longitude Option BSIV</td>\n",
       "      <td>10.03 Lakh</td>\n",
       "      <td>86,226 kms</td>\n",
       "      <td>Diesel</td>\n",
       "      <td>Manual</td>\n",
       "      <td>1st Owner</td>\n",
       "      <td>January-15-2017</td>\n",
       "      <td>1956 cc</td>\n",
       "      <td>5 Seats</td>\n",
       "    </tr>\n",
       "  </tbody>\n",
       "</table>\n",
       "</div>"
      ],
      "text/plain": [
       "                                 car_name car_prices_in_rupee  kms_driven  \\\n",
       "0  Jeep Compass 2.0 Longitude Option BSIV          10.03 Lakh  86,226 kms   \n",
       "\n",
       "  fuel_type transmission  ownership      manufacture   engine    Seats  \n",
       "0    Diesel       Manual  1st Owner  January-15-2017  1956 cc  5 Seats  "
      ]
     },
     "execution_count": 379,
     "metadata": {},
     "output_type": "execute_result"
    }
   ],
   "source": [
    "data.head(1)"
   ]
  },
  {
   "cell_type": "markdown",
   "id": "f1d34fe0-0655-410e-837c-ed0331a41e58",
   "metadata": {},
   "source": [
    "# 📌One By One Cloumn Obeservation"
   ]
  },
  {
   "cell_type": "markdown",
   "id": "7dbef740-4159-4b80-9db4-0a5de4bdc369",
   "metadata": {},
   "source": [
    "# 📍Car_name\n"
   ]
  },
  {
   "cell_type": "code",
   "execution_count": 380,
   "id": "477bf1b9-e593-445e-944e-ab835867c233",
   "metadata": {},
   "outputs": [
    {
     "data": {
      "text/plain": [
       "0    Jeep Compass 2.0 Longitude Option BSIV\n",
       "2                        Toyota Camry 2.5 G\n",
       "3                         Honda Jazz VX CVT\n",
       "4                        Mahindra XUV300 W6\n",
       "5                        Mahindra XUV300 W6\n",
       "Name: car_name, dtype: object"
      ]
     },
     "execution_count": 380,
     "metadata": {},
     "output_type": "execute_result"
    }
   ],
   "source": [
    "data['car_name']"
   ]
  },
  {
   "cell_type": "markdown",
   "id": "2559e3eb-db9d-4d8b-bbd5-d256b2e12512",
   "metadata": {},
   "source": [
    "### 👉What we will do is , split the \"Car_name\" into Car_name and company_name "
   ]
  },
  {
   "cell_type": "code",
   "execution_count": 381,
   "id": "12d2ddbb-447b-453b-84c2-b3ae1f296131",
   "metadata": {},
   "outputs": [
    {
     "data": {
      "text/plain": [
       "'Jeep Compass 2.0 Longitude Option BSIV'"
      ]
     },
     "execution_count": 381,
     "metadata": {},
     "output_type": "execute_result"
    }
   ],
   "source": [
    "# WE Will work on a Data only,Then entire Data\n",
    "data['car_name'][0]"
   ]
  },
  {
   "cell_type": "code",
   "execution_count": 382,
   "id": "47c406a0-4c25-41d2-98a4-5850c19631e9",
   "metadata": {},
   "outputs": [
    {
     "data": {
      "text/plain": [
       "'Jeep'"
      ]
     },
     "execution_count": 382,
     "metadata": {},
     "output_type": "execute_result"
    }
   ],
   "source": [
    "# I will use Slicing to separate the Car name and Company Name \n",
    "x=data['car_name'][0]\n",
    "x[:x.index(\" \")] # For Specific Data, so entire Data, I will have to create the customized function \n",
    "\n"
   ]
  },
  {
   "cell_type": "code",
   "execution_count": 383,
   "id": "61ad1a0e-e4bc-4ff5-885d-a4c324b48670",
   "metadata": {},
   "outputs": [],
   "source": [
    "# To Create the customize function --> for the company_name\n",
    "def company_name(x):\n",
    "    return x[:x.index(\" \")]"
   ]
  },
  {
   "cell_type": "code",
   "execution_count": 384,
   "id": "301c3c00-ffca-4541-9f75-e8533af16641",
   "metadata": {},
   "outputs": [
    {
     "data": {
      "text/plain": [
       "0        Jeep\n",
       "2      Toyota\n",
       "3       Honda\n",
       "4    Mahindra\n",
       "5    Mahindra\n",
       "Name: car_name, dtype: object"
      ]
     },
     "execution_count": 384,
     "metadata": {},
     "output_type": "execute_result"
    }
   ],
   "source": [
    "data[\"car_name\"].apply(company_name)"
   ]
  },
  {
   "cell_type": "code",
   "execution_count": 385,
   "id": "1e4c757b-2466-4d73-bd7f-966903172ce6",
   "metadata": {},
   "outputs": [],
   "source": [
    "# TO add this in the Main Dataset we will do is .......\n",
    "data[\"company_name\"]=data[\"car_name\"].apply(company_name)"
   ]
  },
  {
   "cell_type": "code",
   "execution_count": 386,
   "id": "d373c9d9-3914-4a20-8cbb-b0a5e6753ca6",
   "metadata": {},
   "outputs": [
    {
     "data": {
      "text/html": [
       "<div>\n",
       "<style scoped>\n",
       "    .dataframe tbody tr th:only-of-type {\n",
       "        vertical-align: middle;\n",
       "    }\n",
       "\n",
       "    .dataframe tbody tr th {\n",
       "        vertical-align: top;\n",
       "    }\n",
       "\n",
       "    .dataframe thead th {\n",
       "        text-align: right;\n",
       "    }\n",
       "</style>\n",
       "<table border=\"1\" class=\"dataframe\">\n",
       "  <thead>\n",
       "    <tr style=\"text-align: right;\">\n",
       "      <th></th>\n",
       "      <th>car_name</th>\n",
       "      <th>car_prices_in_rupee</th>\n",
       "      <th>kms_driven</th>\n",
       "      <th>fuel_type</th>\n",
       "      <th>transmission</th>\n",
       "      <th>ownership</th>\n",
       "      <th>manufacture</th>\n",
       "      <th>engine</th>\n",
       "      <th>Seats</th>\n",
       "      <th>company_name</th>\n",
       "    </tr>\n",
       "  </thead>\n",
       "  <tbody>\n",
       "    <tr>\n",
       "      <th>0</th>\n",
       "      <td>Jeep Compass 2.0 Longitude Option BSIV</td>\n",
       "      <td>10.03 Lakh</td>\n",
       "      <td>86,226 kms</td>\n",
       "      <td>Diesel</td>\n",
       "      <td>Manual</td>\n",
       "      <td>1st Owner</td>\n",
       "      <td>January-15-2017</td>\n",
       "      <td>1956 cc</td>\n",
       "      <td>5 Seats</td>\n",
       "      <td>Jeep</td>\n",
       "    </tr>\n",
       "  </tbody>\n",
       "</table>\n",
       "</div>"
      ],
      "text/plain": [
       "                                 car_name car_prices_in_rupee  kms_driven  \\\n",
       "0  Jeep Compass 2.0 Longitude Option BSIV          10.03 Lakh  86,226 kms   \n",
       "\n",
       "  fuel_type transmission  ownership      manufacture   engine    Seats  \\\n",
       "0    Diesel       Manual  1st Owner  January-15-2017  1956 cc  5 Seats   \n",
       "\n",
       "  company_name  \n",
       "0         Jeep  "
      ]
     },
     "execution_count": 386,
     "metadata": {},
     "output_type": "execute_result"
    }
   ],
   "source": [
    "data.head(1)"
   ]
  },
  {
   "cell_type": "code",
   "execution_count": 387,
   "id": "6b5276d3-b946-4c43-9adb-f3fa182ba9ba",
   "metadata": {},
   "outputs": [],
   "source": [
    "# To Create the customize function --> for the car_name\n",
    "def car_name(x):\n",
    "    return x[x.index(\" \")+1:]"
   ]
  },
  {
   "cell_type": "code",
   "execution_count": 388,
   "id": "2d5454b0-bc5f-4ff1-b51b-29b3cd23e619",
   "metadata": {},
   "outputs": [
    {
     "data": {
      "text/plain": [
       "0    Compass 2.0 Longitude Option BSIV\n",
       "2                          Camry 2.5 G\n",
       "3                          Jazz VX CVT\n",
       "4                            XUV300 W6\n",
       "5                            XUV300 W6\n",
       "Name: car_name, dtype: object"
      ]
     },
     "execution_count": 388,
     "metadata": {},
     "output_type": "execute_result"
    }
   ],
   "source": [
    "data[\"car_name\"].apply(car_name)"
   ]
  },
  {
   "cell_type": "code",
   "execution_count": 389,
   "id": "f753df41-917d-46f9-b6aa-f08fb1760b83",
   "metadata": {},
   "outputs": [],
   "source": [
    "# To add this in the Main Dataset we will do is .......\n",
    "data[\"car_name\"]=data[\"car_name\"].apply(car_name)"
   ]
  },
  {
   "cell_type": "code",
   "execution_count": 390,
   "id": "164f1909-3e31-4d1d-a39d-bfbf78dadc72",
   "metadata": {},
   "outputs": [
    {
     "data": {
      "text/html": [
       "<div>\n",
       "<style scoped>\n",
       "    .dataframe tbody tr th:only-of-type {\n",
       "        vertical-align: middle;\n",
       "    }\n",
       "\n",
       "    .dataframe tbody tr th {\n",
       "        vertical-align: top;\n",
       "    }\n",
       "\n",
       "    .dataframe thead th {\n",
       "        text-align: right;\n",
       "    }\n",
       "</style>\n",
       "<table border=\"1\" class=\"dataframe\">\n",
       "  <thead>\n",
       "    <tr style=\"text-align: right;\">\n",
       "      <th></th>\n",
       "      <th>car_name</th>\n",
       "      <th>car_prices_in_rupee</th>\n",
       "      <th>kms_driven</th>\n",
       "      <th>fuel_type</th>\n",
       "      <th>transmission</th>\n",
       "      <th>ownership</th>\n",
       "      <th>manufacture</th>\n",
       "      <th>engine</th>\n",
       "      <th>Seats</th>\n",
       "      <th>company_name</th>\n",
       "    </tr>\n",
       "  </thead>\n",
       "  <tbody>\n",
       "    <tr>\n",
       "      <th>0</th>\n",
       "      <td>Compass 2.0 Longitude Option BSIV</td>\n",
       "      <td>10.03 Lakh</td>\n",
       "      <td>86,226 kms</td>\n",
       "      <td>Diesel</td>\n",
       "      <td>Manual</td>\n",
       "      <td>1st Owner</td>\n",
       "      <td>January-15-2017</td>\n",
       "      <td>1956 cc</td>\n",
       "      <td>5 Seats</td>\n",
       "      <td>Jeep</td>\n",
       "    </tr>\n",
       "  </tbody>\n",
       "</table>\n",
       "</div>"
      ],
      "text/plain": [
       "                            car_name car_prices_in_rupee  kms_driven  \\\n",
       "0  Compass 2.0 Longitude Option BSIV          10.03 Lakh  86,226 kms   \n",
       "\n",
       "  fuel_type transmission  ownership      manufacture   engine    Seats  \\\n",
       "0    Diesel       Manual  1st Owner  January-15-2017  1956 cc  5 Seats   \n",
       "\n",
       "  company_name  \n",
       "0         Jeep  "
      ]
     },
     "execution_count": 390,
     "metadata": {},
     "output_type": "execute_result"
    }
   ],
   "source": [
    "data.head(1)"
   ]
  },
  {
   "cell_type": "markdown",
   "id": "f95ca9c1-5cb0-485e-961d-a7d695b37731",
   "metadata": {},
   "source": [
    "# 📍Car_price_in_Rupes "
   ]
  },
  {
   "cell_type": "code",
   "execution_count": 391,
   "id": "bf2666ca-b888-4bee-9c9d-d0b06c1b3dd9",
   "metadata": {},
   "outputs": [
    {
     "data": {
      "text/plain": [
       "0     10.03 Lakh\n",
       "2           16.4\n",
       "3    16.40 Crore\n",
       "4         35,000\n",
       "5         35,000\n",
       "Name: car_prices_in_rupee, dtype: object"
      ]
     },
     "execution_count": 391,
     "metadata": {},
     "output_type": "execute_result"
    }
   ],
   "source": [
    "data[\"car_prices_in_rupee\"]"
   ]
  },
  {
   "cell_type": "code",
   "execution_count": 392,
   "id": "e880676b-2baf-485a-83b4-54465fd4f58a",
   "metadata": {},
   "outputs": [],
   "source": [
    "# Remove the coma first ---> using [str] and [replace]   ==> like 35,000----to --> 3500 \n",
    "data[\"car_prices_in_rupee\"] = data[\"car_prices_in_rupee\"].str.replace(\",\",\"\")"
   ]
  },
  {
   "cell_type": "code",
   "execution_count": 393,
   "id": "98f32027-2961-4e19-bfa7-80fc9f5828dc",
   "metadata": {},
   "outputs": [
    {
     "data": {
      "text/html": [
       "<div>\n",
       "<style scoped>\n",
       "    .dataframe tbody tr th:only-of-type {\n",
       "        vertical-align: middle;\n",
       "    }\n",
       "\n",
       "    .dataframe tbody tr th {\n",
       "        vertical-align: top;\n",
       "    }\n",
       "\n",
       "    .dataframe thead th {\n",
       "        text-align: right;\n",
       "    }\n",
       "</style>\n",
       "<table border=\"1\" class=\"dataframe\">\n",
       "  <thead>\n",
       "    <tr style=\"text-align: right;\">\n",
       "      <th></th>\n",
       "      <th>car_name</th>\n",
       "      <th>car_prices_in_rupee</th>\n",
       "      <th>kms_driven</th>\n",
       "      <th>fuel_type</th>\n",
       "      <th>transmission</th>\n",
       "      <th>ownership</th>\n",
       "      <th>manufacture</th>\n",
       "      <th>engine</th>\n",
       "      <th>Seats</th>\n",
       "      <th>company_name</th>\n",
       "    </tr>\n",
       "  </thead>\n",
       "  <tbody>\n",
       "    <tr>\n",
       "      <th>0</th>\n",
       "      <td>Compass 2.0 Longitude Option BSIV</td>\n",
       "      <td>10.03 Lakh</td>\n",
       "      <td>86,226 kms</td>\n",
       "      <td>Diesel</td>\n",
       "      <td>Manual</td>\n",
       "      <td>1st Owner</td>\n",
       "      <td>January-15-2017</td>\n",
       "      <td>1956 cc</td>\n",
       "      <td>5 Seats</td>\n",
       "      <td>Jeep</td>\n",
       "    </tr>\n",
       "    <tr>\n",
       "      <th>2</th>\n",
       "      <td>Camry 2.5 G</td>\n",
       "      <td>16.4</td>\n",
       "      <td>60,343 kms</td>\n",
       "      <td>Petrol</td>\n",
       "      <td>Automatic</td>\n",
       "      <td>1st Owner</td>\n",
       "      <td>January-15-2019</td>\n",
       "      <td>2494 cc</td>\n",
       "      <td>5 Seats</td>\n",
       "      <td>Toyota</td>\n",
       "    </tr>\n",
       "    <tr>\n",
       "      <th>3</th>\n",
       "      <td>Jazz VX CVT</td>\n",
       "      <td>16.40 Crore</td>\n",
       "      <td>26,696 kms</td>\n",
       "      <td>Petrol</td>\n",
       "      <td>Automatic</td>\n",
       "      <td>1st Owner</td>\n",
       "      <td>January-15-2020</td>\n",
       "      <td>1199 cc</td>\n",
       "      <td>5 Seats</td>\n",
       "      <td>Honda</td>\n",
       "    </tr>\n",
       "    <tr>\n",
       "      <th>4</th>\n",
       "      <td>XUV300 W6</td>\n",
       "      <td>35000</td>\n",
       "      <td>65,000 kms</td>\n",
       "      <td>Diesel</td>\n",
       "      <td>Automatic</td>\n",
       "      <td>2nd Owner</td>\n",
       "      <td>January-15-2021</td>\n",
       "      <td>2000 cc</td>\n",
       "      <td>2 Seats</td>\n",
       "      <td>Mahindra</td>\n",
       "    </tr>\n",
       "    <tr>\n",
       "      <th>5</th>\n",
       "      <td>XUV300 W6</td>\n",
       "      <td>35000</td>\n",
       "      <td>65,000 kms</td>\n",
       "      <td>Diesel</td>\n",
       "      <td>Automatic</td>\n",
       "      <td>2nd Owner</td>\n",
       "      <td>January-15-2022</td>\n",
       "      <td>2000 cc</td>\n",
       "      <td>2 Seats</td>\n",
       "      <td>Mahindra</td>\n",
       "    </tr>\n",
       "  </tbody>\n",
       "</table>\n",
       "</div>"
      ],
      "text/plain": [
       "                            car_name car_prices_in_rupee  kms_driven  \\\n",
       "0  Compass 2.0 Longitude Option BSIV          10.03 Lakh  86,226 kms   \n",
       "2                        Camry 2.5 G                16.4  60,343 kms   \n",
       "3                        Jazz VX CVT         16.40 Crore  26,696 kms   \n",
       "4                          XUV300 W6               35000  65,000 kms   \n",
       "5                          XUV300 W6               35000  65,000 kms   \n",
       "\n",
       "  fuel_type transmission  ownership      manufacture   engine    Seats  \\\n",
       "0    Diesel       Manual  1st Owner  January-15-2017  1956 cc  5 Seats   \n",
       "2    Petrol    Automatic  1st Owner  January-15-2019  2494 cc  5 Seats   \n",
       "3    Petrol    Automatic  1st Owner  January-15-2020  1199 cc  5 Seats   \n",
       "4    Diesel    Automatic  2nd Owner  January-15-2021  2000 cc  2 Seats   \n",
       "5    Diesel    Automatic  2nd Owner  January-15-2022  2000 cc  2 Seats   \n",
       "\n",
       "  company_name  \n",
       "0         Jeep  \n",
       "2       Toyota  \n",
       "3        Honda  \n",
       "4     Mahindra  \n",
       "5     Mahindra  "
      ]
     },
     "execution_count": 393,
     "metadata": {},
     "output_type": "execute_result"
    }
   ],
   "source": [
    "data"
   ]
  },
  {
   "cell_type": "code",
   "execution_count": 394,
   "id": "7ac68e70-0263-442f-b3c6-dc4fc88d8116",
   "metadata": {},
   "outputs": [
    {
     "data": {
      "text/plain": [
       "1639999999.9999998"
      ]
     },
     "execution_count": 394,
     "metadata": {},
     "output_type": "execute_result"
    }
   ],
   "source": [
    "\n",
    "# 16.40 crore ----To ----> 16.40* 100000000\n",
    "16.40* 100000000\n",
    "\n",
    "# [\"16.40\", \"Crore\"] ekhane 0 index = 16.40-->p[0]   And Crore hocce = 1 index -->p[1]\n",
    "# [\"10.03\", \"Lakh\"] ekhane 0 index = 10.03-->p[0]  And Lakh hocce = 1 index -->p[1]\n",
    "\n"
   ]
  },
  {
   "cell_type": "code",
   "execution_count": 395,
   "id": "877e7075-ab58-4bc2-96d7-b7b5a131164f",
   "metadata": {},
   "outputs": [
    {
     "data": {
      "text/plain": [
       "['10.03', 'Lakh']"
      ]
     },
     "execution_count": 395,
     "metadata": {},
     "output_type": "execute_result"
    }
   ],
   "source": [
    "# The steps that i am going to do is--> Step: 1\n",
    "l= \"10.03 Lakh\"\n",
    "a = l.split(\" \")\n",
    "a # Now I will find the Data in the list"
   ]
  },
  {
   "cell_type": "code",
   "execution_count": 396,
   "id": "06b6a3a9-eb8b-4bdc-aa21-d224d366b969",
   "metadata": {},
   "outputs": [
    {
     "data": {
      "text/plain": [
       "'10.03'"
      ]
     },
     "execution_count": 396,
     "metadata": {},
     "output_type": "execute_result"
    }
   ],
   "source": [
    "# Working with 28.90 or index = zero --> step: 2\n",
    "l= \"10.03 Lakh\"\n",
    "a = l.split(\" \")\n",
    "a[0]"
   ]
  },
  {
   "cell_type": "code",
   "execution_count": 397,
   "id": "1c026915-1c00-467f-aed5-f21a0b825e02",
   "metadata": {},
   "outputs": [
    {
     "data": {
      "text/plain": [
       "1002999.9999999999"
      ]
     },
     "execution_count": 397,
     "metadata": {},
     "output_type": "execute_result"
    }
   ],
   "source": [
    "# Now I Will Multiply this value 28.9 by 100000 ----> so that I find the Number in thousands --> step: 4\n",
    "l= \"10.03 Lakh\"\n",
    "a = l.split(\" \")\n",
    "float(a[0])*100000"
   ]
  },
  {
   "cell_type": "code",
   "execution_count": 398,
   "id": "555bd79c-91df-4707-9672-9b55fbd815d9",
   "metadata": {},
   "outputs": [
    {
     "data": {
      "text/plain": [
       "1003000.0"
      ]
     },
     "execution_count": 398,
     "metadata": {},
     "output_type": "execute_result"
    }
   ],
   "source": [
    "# If any round value, to reduce that mistake, we will use the Round function -----> step: 5\n",
    "# Such that round(3.14159, 2) rounds the number to two decimal places, resulting in 3.14.\n",
    "l= \"10.03 Lakh\"\n",
    "a = l.split(\" \")\n",
    "round(float(a[0])*100000,1)"
   ]
  },
  {
   "cell_type": "code",
   "execution_count": 399,
   "id": "1adc2d67-4c3d-498f-baab-9467fefb71a4",
   "metadata": {},
   "outputs": [],
   "source": [
    "# To Create this Function And -> pura process jeta hocce sheta String Format e convert kore again insert korteci \n",
    "\n",
    "#try and except: Handles unexpected errors (like missing or malformed input) and prevents your program from crashing.\n",
    "#else: Provides an alternative path if none of the if or elif conditions are met, but it does not handle errors.\n",
    "\n",
    "\n",
    "def rupe_change(x):\n",
    "    p = x.split(\" \")\n",
    "    try:\n",
    "        if p[1] == \"Lakh\":\n",
    "            return str(round(float(p[0]) * 100000, 1))\n",
    "        elif p[1] == \"Crore\":\n",
    "            return str(round(float(p[0]) * 10000000, 1))\n",
    "    except:\n",
    "        return x"
   ]
  },
  {
   "cell_type": "code",
   "execution_count": 400,
   "id": "b3af8da0-34d7-48c7-98bb-4ec358891c5b",
   "metadata": {},
   "outputs": [
    {
     "data": {
      "text/plain": [
       "0      1003000.0\n",
       "2           16.4\n",
       "3    164000000.0\n",
       "4          35000\n",
       "5          35000\n",
       "Name: car_prices_in_rupee, dtype: object"
      ]
     },
     "execution_count": 400,
     "metadata": {},
     "output_type": "execute_result"
    }
   ],
   "source": [
    "data[\"car_prices_in_rupee\"].apply(rupe_change)"
   ]
  },
  {
   "cell_type": "code",
   "execution_count": 401,
   "id": "b57575dd-aea4-4396-8f7a-bee821b52e25",
   "metadata": {},
   "outputs": [],
   "source": [
    "# To check the conversion type\n",
    "data[\"car_prices_in_rupee\"] =data[\"car_prices_in_rupee\"].apply(rupe_change)"
   ]
  },
  {
   "cell_type": "code",
   "execution_count": 402,
   "id": "5a6c1cc1-492b-411b-b102-0391218d58a7",
   "metadata": {},
   "outputs": [
    {
     "name": "stdout",
     "output_type": "stream",
     "text": [
      "<class 'pandas.core.frame.DataFrame'>\n",
      "Index: 5 entries, 0 to 5\n",
      "Data columns (total 10 columns):\n",
      " #   Column               Non-Null Count  Dtype \n",
      "---  ------               --------------  ----- \n",
      " 0   car_name             5 non-null      object\n",
      " 1   car_prices_in_rupee  5 non-null      object\n",
      " 2   kms_driven           5 non-null      object\n",
      " 3   fuel_type            5 non-null      object\n",
      " 4   transmission         5 non-null      object\n",
      " 5   ownership            5 non-null      object\n",
      " 6   manufacture          5 non-null      object\n",
      " 7   engine               5 non-null      object\n",
      " 8   Seats                5 non-null      object\n",
      " 9   company_name         5 non-null      object\n",
      "dtypes: object(10)\n",
      "memory usage: 612.0+ bytes\n"
     ]
    }
   ],
   "source": [
    "data.info()"
   ]
  },
  {
   "cell_type": "code",
   "execution_count": 403,
   "id": "c919cf8f-cca7-41f7-b871-a0aed57704f4",
   "metadata": {},
   "outputs": [
    {
     "data": {
      "text/plain": [
       "0      1003000.0\n",
       "2           16.4\n",
       "3    164000000.0\n",
       "4        35000.0\n",
       "5        35000.0\n",
       "Name: car_prices_in_rupee, dtype: float64"
      ]
     },
     "execution_count": 403,
     "metadata": {},
     "output_type": "execute_result"
    }
   ],
   "source": [
    "# In the above section I see, the car_price_in_rupee is still in Object Form  \n",
    "# So let's Convert this into float Value \n",
    "\n",
    "data[\"car_prices_in_rupee\"].astype(\"float\") # Now it is converted into floating Value"
   ]
  },
  {
   "cell_type": "code",
   "execution_count": 404,
   "id": "57dbdee8-a340-46a5-80f8-c5bf9880862f",
   "metadata": {},
   "outputs": [],
   "source": [
    "#Now loading this into the Dataset\n",
    "data[\"car_prices_in_rupee\"]=data[\"car_prices_in_rupee\"].astype(\"float64\") # Now it is converted into floating Value"
   ]
  },
  {
   "cell_type": "code",
   "execution_count": 405,
   "id": "24ed6bd7-afcc-4174-9e45-cb3f1ea3839c",
   "metadata": {},
   "outputs": [
    {
     "data": {
      "text/html": [
       "<div>\n",
       "<style scoped>\n",
       "    .dataframe tbody tr th:only-of-type {\n",
       "        vertical-align: middle;\n",
       "    }\n",
       "\n",
       "    .dataframe tbody tr th {\n",
       "        vertical-align: top;\n",
       "    }\n",
       "\n",
       "    .dataframe thead th {\n",
       "        text-align: right;\n",
       "    }\n",
       "</style>\n",
       "<table border=\"1\" class=\"dataframe\">\n",
       "  <thead>\n",
       "    <tr style=\"text-align: right;\">\n",
       "      <th></th>\n",
       "      <th>car_name</th>\n",
       "      <th>car_prices_in_rupee</th>\n",
       "      <th>kms_driven</th>\n",
       "      <th>fuel_type</th>\n",
       "      <th>transmission</th>\n",
       "      <th>ownership</th>\n",
       "      <th>manufacture</th>\n",
       "      <th>engine</th>\n",
       "      <th>Seats</th>\n",
       "      <th>company_name</th>\n",
       "    </tr>\n",
       "  </thead>\n",
       "  <tbody>\n",
       "    <tr>\n",
       "      <th>0</th>\n",
       "      <td>Compass 2.0 Longitude Option BSIV</td>\n",
       "      <td>1003000.0</td>\n",
       "      <td>86,226 kms</td>\n",
       "      <td>Diesel</td>\n",
       "      <td>Manual</td>\n",
       "      <td>1st Owner</td>\n",
       "      <td>January-15-2017</td>\n",
       "      <td>1956 cc</td>\n",
       "      <td>5 Seats</td>\n",
       "      <td>Jeep</td>\n",
       "    </tr>\n",
       "    <tr>\n",
       "      <th>2</th>\n",
       "      <td>Camry 2.5 G</td>\n",
       "      <td>16.4</td>\n",
       "      <td>60,343 kms</td>\n",
       "      <td>Petrol</td>\n",
       "      <td>Automatic</td>\n",
       "      <td>1st Owner</td>\n",
       "      <td>January-15-2019</td>\n",
       "      <td>2494 cc</td>\n",
       "      <td>5 Seats</td>\n",
       "      <td>Toyota</td>\n",
       "    </tr>\n",
       "    <tr>\n",
       "      <th>3</th>\n",
       "      <td>Jazz VX CVT</td>\n",
       "      <td>164000000.0</td>\n",
       "      <td>26,696 kms</td>\n",
       "      <td>Petrol</td>\n",
       "      <td>Automatic</td>\n",
       "      <td>1st Owner</td>\n",
       "      <td>January-15-2020</td>\n",
       "      <td>1199 cc</td>\n",
       "      <td>5 Seats</td>\n",
       "      <td>Honda</td>\n",
       "    </tr>\n",
       "    <tr>\n",
       "      <th>4</th>\n",
       "      <td>XUV300 W6</td>\n",
       "      <td>35000.0</td>\n",
       "      <td>65,000 kms</td>\n",
       "      <td>Diesel</td>\n",
       "      <td>Automatic</td>\n",
       "      <td>2nd Owner</td>\n",
       "      <td>January-15-2021</td>\n",
       "      <td>2000 cc</td>\n",
       "      <td>2 Seats</td>\n",
       "      <td>Mahindra</td>\n",
       "    </tr>\n",
       "    <tr>\n",
       "      <th>5</th>\n",
       "      <td>XUV300 W6</td>\n",
       "      <td>35000.0</td>\n",
       "      <td>65,000 kms</td>\n",
       "      <td>Diesel</td>\n",
       "      <td>Automatic</td>\n",
       "      <td>2nd Owner</td>\n",
       "      <td>January-15-2022</td>\n",
       "      <td>2000 cc</td>\n",
       "      <td>2 Seats</td>\n",
       "      <td>Mahindra</td>\n",
       "    </tr>\n",
       "  </tbody>\n",
       "</table>\n",
       "</div>"
      ],
      "text/plain": [
       "                            car_name  car_prices_in_rupee  kms_driven  \\\n",
       "0  Compass 2.0 Longitude Option BSIV            1003000.0  86,226 kms   \n",
       "2                        Camry 2.5 G                 16.4  60,343 kms   \n",
       "3                        Jazz VX CVT          164000000.0  26,696 kms   \n",
       "4                          XUV300 W6              35000.0  65,000 kms   \n",
       "5                          XUV300 W6              35000.0  65,000 kms   \n",
       "\n",
       "  fuel_type transmission  ownership      manufacture   engine    Seats  \\\n",
       "0    Diesel       Manual  1st Owner  January-15-2017  1956 cc  5 Seats   \n",
       "2    Petrol    Automatic  1st Owner  January-15-2019  2494 cc  5 Seats   \n",
       "3    Petrol    Automatic  1st Owner  January-15-2020  1199 cc  5 Seats   \n",
       "4    Diesel    Automatic  2nd Owner  January-15-2021  2000 cc  2 Seats   \n",
       "5    Diesel    Automatic  2nd Owner  January-15-2022  2000 cc  2 Seats   \n",
       "\n",
       "  company_name  \n",
       "0         Jeep  \n",
       "2       Toyota  \n",
       "3        Honda  \n",
       "4     Mahindra  \n",
       "5     Mahindra  "
      ]
     },
     "execution_count": 405,
     "metadata": {},
     "output_type": "execute_result"
    }
   ],
   "source": [
    "data.head()"
   ]
  },
  {
   "cell_type": "markdown",
   "id": "17d88008-3131-49e1-821c-ad5cde0cfe43",
   "metadata": {},
   "source": [
    "# 📌Kms_driveen"
   ]
  },
  {
   "cell_type": "code",
   "execution_count": 406,
   "id": "1f7442c3-258e-4f23-9e77-0150a45a92f4",
   "metadata": {},
   "outputs": [
    {
     "data": {
      "text/plain": [
       "0    86,226 kms\n",
       "2    60,343 kms\n",
       "3    26,696 kms\n",
       "4    65,000 kms\n",
       "5    65,000 kms\n",
       "Name: kms_driven, dtype: object"
      ]
     },
     "execution_count": 406,
     "metadata": {},
     "output_type": "execute_result"
    }
   ],
   "source": [
    "data['kms_driven']"
   ]
  },
  {
   "cell_type": "code",
   "execution_count": 407,
   "id": "a66e09e8-e490-48a7-8ab1-08f4e55059f4",
   "metadata": {},
   "outputs": [],
   "source": [
    "# Remove the coma first ---> using [str] and [replace]   ==> like 35,000----to --> 3500 \n",
    "data[\"kms_driven\"] = data[\"kms_driven\"].str.replace(\",\",\"\")"
   ]
  },
  {
   "cell_type": "code",
   "execution_count": 408,
   "id": "d8153cfc-8082-472b-9d18-a479f5132e5e",
   "metadata": {},
   "outputs": [
    {
     "data": {
      "text/plain": [
       "0    86226 kms\n",
       "2    60343 kms\n",
       "3    26696 kms\n",
       "4    65000 kms\n",
       "5    65000 kms\n",
       "Name: kms_driven, dtype: object"
      ]
     },
     "execution_count": 408,
     "metadata": {},
     "output_type": "execute_result"
    }
   ],
   "source": [
    "data['kms_driven']"
   ]
  },
  {
   "cell_type": "code",
   "execution_count": 409,
   "id": "a0d55702-c8f9-4964-9459-dd9bb215b06a",
   "metadata": {},
   "outputs": [],
   "source": [
    "# To Create this Function And -> pura process jeta hocce sheta String Format e convert kore again insert korteci \n",
    "\n",
    "#try and except: Handles unexpected errors (like missing or malformed input) and prevents your program from crashing.\n",
    "#else: Provides an alternative path if none of the if or elif conditions are met, but it does not handle errors.\n",
    "\n",
    "\n",
    "def kms_remove(y):\n",
    "    h = y.split(\" \")\n",
    "    try:\n",
    "        if h[1] == \"kms\":\n",
    "            return str(round(float(h[0]), 1))\n",
    "    except:\n",
    "        return y"
   ]
  },
  {
   "cell_type": "code",
   "execution_count": 410,
   "id": "f7932e3c-445b-407a-ba26-cce493d2d443",
   "metadata": {},
   "outputs": [
    {
     "data": {
      "text/plain": [
       "0    86226.0\n",
       "2    60343.0\n",
       "3    26696.0\n",
       "4    65000.0\n",
       "5    65000.0\n",
       "Name: kms_driven, dtype: object"
      ]
     },
     "execution_count": 410,
     "metadata": {},
     "output_type": "execute_result"
    }
   ],
   "source": [
    "data[\"kms_driven\"].apply(kms_remove)"
   ]
  },
  {
   "cell_type": "code",
   "execution_count": 411,
   "id": "e593d893-b6f3-4d70-9fc9-0b25ea535423",
   "metadata": {},
   "outputs": [
    {
     "name": "stdout",
     "output_type": "stream",
     "text": [
      "<class 'pandas.core.frame.DataFrame'>\n",
      "Index: 5 entries, 0 to 5\n",
      "Data columns (total 10 columns):\n",
      " #   Column               Non-Null Count  Dtype  \n",
      "---  ------               --------------  -----  \n",
      " 0   car_name             5 non-null      object \n",
      " 1   car_prices_in_rupee  5 non-null      float64\n",
      " 2   kms_driven           5 non-null      object \n",
      " 3   fuel_type            5 non-null      object \n",
      " 4   transmission         5 non-null      object \n",
      " 5   ownership            5 non-null      object \n",
      " 6   manufacture          5 non-null      object \n",
      " 7   engine               5 non-null      object \n",
      " 8   Seats                5 non-null      object \n",
      " 9   company_name         5 non-null      object \n",
      "dtypes: float64(1), object(9)\n",
      "memory usage: 612.0+ bytes\n"
     ]
    }
   ],
   "source": [
    "data.info()"
   ]
  },
  {
   "cell_type": "code",
   "execution_count": 412,
   "id": "65560d65-25a3-438c-9659-6f57d6198ddf",
   "metadata": {},
   "outputs": [
    {
     "ename": "ValueError",
     "evalue": "could not convert string to float: '86226 kms'",
     "output_type": "error",
     "traceback": [
      "\u001b[1;31m---------------------------------------------------------------------------\u001b[0m",
      "\u001b[1;31mValueError\u001b[0m                                Traceback (most recent call last)",
      "Cell \u001b[1;32mIn[412], line 4\u001b[0m\n\u001b[0;32m      1\u001b[0m \u001b[38;5;66;03m# In the above section I see, the kms_driven is still in Object Form  \u001b[39;00m\n\u001b[0;32m      2\u001b[0m \u001b[38;5;66;03m# So let's convert this into a float Value \u001b[39;00m\n\u001b[1;32m----> 4\u001b[0m \u001b[43mdata\u001b[49m\u001b[43m[\u001b[49m\u001b[38;5;124;43m\"\u001b[39;49m\u001b[38;5;124;43mkms_driven\u001b[39;49m\u001b[38;5;124;43m\"\u001b[39;49m\u001b[43m]\u001b[49m\u001b[38;5;241;43m.\u001b[39;49m\u001b[43mastype\u001b[49m\u001b[43m(\u001b[49m\u001b[38;5;124;43m\"\u001b[39;49m\u001b[38;5;124;43mfloat\u001b[39;49m\u001b[38;5;124;43m\"\u001b[39;49m\u001b[43m)\u001b[49m \u001b[38;5;66;03m# Now it is converted into floating Value\u001b[39;00m\n",
      "File \u001b[1;32m~\\AppData\\Local\\Programs\\Python\\Python312\\Lib\\site-packages\\pandas\\core\\generic.py:6643\u001b[0m, in \u001b[0;36mNDFrame.astype\u001b[1;34m(self, dtype, copy, errors)\u001b[0m\n\u001b[0;32m   6637\u001b[0m     results \u001b[38;5;241m=\u001b[39m [\n\u001b[0;32m   6638\u001b[0m         ser\u001b[38;5;241m.\u001b[39mastype(dtype, copy\u001b[38;5;241m=\u001b[39mcopy, errors\u001b[38;5;241m=\u001b[39merrors) \u001b[38;5;28;01mfor\u001b[39;00m _, ser \u001b[38;5;129;01min\u001b[39;00m \u001b[38;5;28mself\u001b[39m\u001b[38;5;241m.\u001b[39mitems()\n\u001b[0;32m   6639\u001b[0m     ]\n\u001b[0;32m   6641\u001b[0m \u001b[38;5;28;01melse\u001b[39;00m:\n\u001b[0;32m   6642\u001b[0m     \u001b[38;5;66;03m# else, only a single dtype is given\u001b[39;00m\n\u001b[1;32m-> 6643\u001b[0m     new_data \u001b[38;5;241m=\u001b[39m \u001b[38;5;28;43mself\u001b[39;49m\u001b[38;5;241;43m.\u001b[39;49m\u001b[43m_mgr\u001b[49m\u001b[38;5;241;43m.\u001b[39;49m\u001b[43mastype\u001b[49m\u001b[43m(\u001b[49m\u001b[43mdtype\u001b[49m\u001b[38;5;241;43m=\u001b[39;49m\u001b[43mdtype\u001b[49m\u001b[43m,\u001b[49m\u001b[43m \u001b[49m\u001b[43mcopy\u001b[49m\u001b[38;5;241;43m=\u001b[39;49m\u001b[43mcopy\u001b[49m\u001b[43m,\u001b[49m\u001b[43m \u001b[49m\u001b[43merrors\u001b[49m\u001b[38;5;241;43m=\u001b[39;49m\u001b[43merrors\u001b[49m\u001b[43m)\u001b[49m\n\u001b[0;32m   6644\u001b[0m     res \u001b[38;5;241m=\u001b[39m \u001b[38;5;28mself\u001b[39m\u001b[38;5;241m.\u001b[39m_constructor_from_mgr(new_data, axes\u001b[38;5;241m=\u001b[39mnew_data\u001b[38;5;241m.\u001b[39maxes)\n\u001b[0;32m   6645\u001b[0m     \u001b[38;5;28;01mreturn\u001b[39;00m res\u001b[38;5;241m.\u001b[39m__finalize__(\u001b[38;5;28mself\u001b[39m, method\u001b[38;5;241m=\u001b[39m\u001b[38;5;124m\"\u001b[39m\u001b[38;5;124mastype\u001b[39m\u001b[38;5;124m\"\u001b[39m)\n",
      "File \u001b[1;32m~\\AppData\\Local\\Programs\\Python\\Python312\\Lib\\site-packages\\pandas\\core\\internals\\managers.py:430\u001b[0m, in \u001b[0;36mBaseBlockManager.astype\u001b[1;34m(self, dtype, copy, errors)\u001b[0m\n\u001b[0;32m    427\u001b[0m \u001b[38;5;28;01melif\u001b[39;00m using_copy_on_write():\n\u001b[0;32m    428\u001b[0m     copy \u001b[38;5;241m=\u001b[39m \u001b[38;5;28;01mFalse\u001b[39;00m\n\u001b[1;32m--> 430\u001b[0m \u001b[38;5;28;01mreturn\u001b[39;00m \u001b[38;5;28;43mself\u001b[39;49m\u001b[38;5;241;43m.\u001b[39;49m\u001b[43mapply\u001b[49m\u001b[43m(\u001b[49m\n\u001b[0;32m    431\u001b[0m \u001b[43m    \u001b[49m\u001b[38;5;124;43m\"\u001b[39;49m\u001b[38;5;124;43mastype\u001b[39;49m\u001b[38;5;124;43m\"\u001b[39;49m\u001b[43m,\u001b[49m\n\u001b[0;32m    432\u001b[0m \u001b[43m    \u001b[49m\u001b[43mdtype\u001b[49m\u001b[38;5;241;43m=\u001b[39;49m\u001b[43mdtype\u001b[49m\u001b[43m,\u001b[49m\n\u001b[0;32m    433\u001b[0m \u001b[43m    \u001b[49m\u001b[43mcopy\u001b[49m\u001b[38;5;241;43m=\u001b[39;49m\u001b[43mcopy\u001b[49m\u001b[43m,\u001b[49m\n\u001b[0;32m    434\u001b[0m \u001b[43m    \u001b[49m\u001b[43merrors\u001b[49m\u001b[38;5;241;43m=\u001b[39;49m\u001b[43merrors\u001b[49m\u001b[43m,\u001b[49m\n\u001b[0;32m    435\u001b[0m \u001b[43m    \u001b[49m\u001b[43musing_cow\u001b[49m\u001b[38;5;241;43m=\u001b[39;49m\u001b[43musing_copy_on_write\u001b[49m\u001b[43m(\u001b[49m\u001b[43m)\u001b[49m\u001b[43m,\u001b[49m\n\u001b[0;32m    436\u001b[0m \u001b[43m\u001b[49m\u001b[43m)\u001b[49m\n",
      "File \u001b[1;32m~\\AppData\\Local\\Programs\\Python\\Python312\\Lib\\site-packages\\pandas\\core\\internals\\managers.py:363\u001b[0m, in \u001b[0;36mBaseBlockManager.apply\u001b[1;34m(self, f, align_keys, **kwargs)\u001b[0m\n\u001b[0;32m    361\u001b[0m         applied \u001b[38;5;241m=\u001b[39m b\u001b[38;5;241m.\u001b[39mapply(f, \u001b[38;5;241m*\u001b[39m\u001b[38;5;241m*\u001b[39mkwargs)\n\u001b[0;32m    362\u001b[0m     \u001b[38;5;28;01melse\u001b[39;00m:\n\u001b[1;32m--> 363\u001b[0m         applied \u001b[38;5;241m=\u001b[39m \u001b[38;5;28;43mgetattr\u001b[39;49m\u001b[43m(\u001b[49m\u001b[43mb\u001b[49m\u001b[43m,\u001b[49m\u001b[43m \u001b[49m\u001b[43mf\u001b[49m\u001b[43m)\u001b[49m\u001b[43m(\u001b[49m\u001b[38;5;241;43m*\u001b[39;49m\u001b[38;5;241;43m*\u001b[39;49m\u001b[43mkwargs\u001b[49m\u001b[43m)\u001b[49m\n\u001b[0;32m    364\u001b[0m     result_blocks \u001b[38;5;241m=\u001b[39m extend_blocks(applied, result_blocks)\n\u001b[0;32m    366\u001b[0m out \u001b[38;5;241m=\u001b[39m \u001b[38;5;28mtype\u001b[39m(\u001b[38;5;28mself\u001b[39m)\u001b[38;5;241m.\u001b[39mfrom_blocks(result_blocks, \u001b[38;5;28mself\u001b[39m\u001b[38;5;241m.\u001b[39maxes)\n",
      "File \u001b[1;32m~\\AppData\\Local\\Programs\\Python\\Python312\\Lib\\site-packages\\pandas\\core\\internals\\blocks.py:758\u001b[0m, in \u001b[0;36mBlock.astype\u001b[1;34m(self, dtype, copy, errors, using_cow, squeeze)\u001b[0m\n\u001b[0;32m    755\u001b[0m         \u001b[38;5;28;01mraise\u001b[39;00m \u001b[38;5;167;01mValueError\u001b[39;00m(\u001b[38;5;124m\"\u001b[39m\u001b[38;5;124mCan not squeeze with more than one column.\u001b[39m\u001b[38;5;124m\"\u001b[39m)\n\u001b[0;32m    756\u001b[0m     values \u001b[38;5;241m=\u001b[39m values[\u001b[38;5;241m0\u001b[39m, :]  \u001b[38;5;66;03m# type: ignore[call-overload]\u001b[39;00m\n\u001b[1;32m--> 758\u001b[0m new_values \u001b[38;5;241m=\u001b[39m \u001b[43mastype_array_safe\u001b[49m\u001b[43m(\u001b[49m\u001b[43mvalues\u001b[49m\u001b[43m,\u001b[49m\u001b[43m \u001b[49m\u001b[43mdtype\u001b[49m\u001b[43m,\u001b[49m\u001b[43m \u001b[49m\u001b[43mcopy\u001b[49m\u001b[38;5;241;43m=\u001b[39;49m\u001b[43mcopy\u001b[49m\u001b[43m,\u001b[49m\u001b[43m \u001b[49m\u001b[43merrors\u001b[49m\u001b[38;5;241;43m=\u001b[39;49m\u001b[43merrors\u001b[49m\u001b[43m)\u001b[49m\n\u001b[0;32m    760\u001b[0m new_values \u001b[38;5;241m=\u001b[39m maybe_coerce_values(new_values)\n\u001b[0;32m    762\u001b[0m refs \u001b[38;5;241m=\u001b[39m \u001b[38;5;28;01mNone\u001b[39;00m\n",
      "File \u001b[1;32m~\\AppData\\Local\\Programs\\Python\\Python312\\Lib\\site-packages\\pandas\\core\\dtypes\\astype.py:237\u001b[0m, in \u001b[0;36mastype_array_safe\u001b[1;34m(values, dtype, copy, errors)\u001b[0m\n\u001b[0;32m    234\u001b[0m     dtype \u001b[38;5;241m=\u001b[39m dtype\u001b[38;5;241m.\u001b[39mnumpy_dtype\n\u001b[0;32m    236\u001b[0m \u001b[38;5;28;01mtry\u001b[39;00m:\n\u001b[1;32m--> 237\u001b[0m     new_values \u001b[38;5;241m=\u001b[39m \u001b[43mastype_array\u001b[49m\u001b[43m(\u001b[49m\u001b[43mvalues\u001b[49m\u001b[43m,\u001b[49m\u001b[43m \u001b[49m\u001b[43mdtype\u001b[49m\u001b[43m,\u001b[49m\u001b[43m \u001b[49m\u001b[43mcopy\u001b[49m\u001b[38;5;241;43m=\u001b[39;49m\u001b[43mcopy\u001b[49m\u001b[43m)\u001b[49m\n\u001b[0;32m    238\u001b[0m \u001b[38;5;28;01mexcept\u001b[39;00m (\u001b[38;5;167;01mValueError\u001b[39;00m, \u001b[38;5;167;01mTypeError\u001b[39;00m):\n\u001b[0;32m    239\u001b[0m     \u001b[38;5;66;03m# e.g. _astype_nansafe can fail on object-dtype of strings\u001b[39;00m\n\u001b[0;32m    240\u001b[0m     \u001b[38;5;66;03m#  trying to convert to float\u001b[39;00m\n\u001b[0;32m    241\u001b[0m     \u001b[38;5;28;01mif\u001b[39;00m errors \u001b[38;5;241m==\u001b[39m \u001b[38;5;124m\"\u001b[39m\u001b[38;5;124mignore\u001b[39m\u001b[38;5;124m\"\u001b[39m:\n",
      "File \u001b[1;32m~\\AppData\\Local\\Programs\\Python\\Python312\\Lib\\site-packages\\pandas\\core\\dtypes\\astype.py:182\u001b[0m, in \u001b[0;36mastype_array\u001b[1;34m(values, dtype, copy)\u001b[0m\n\u001b[0;32m    179\u001b[0m     values \u001b[38;5;241m=\u001b[39m values\u001b[38;5;241m.\u001b[39mastype(dtype, copy\u001b[38;5;241m=\u001b[39mcopy)\n\u001b[0;32m    181\u001b[0m \u001b[38;5;28;01melse\u001b[39;00m:\n\u001b[1;32m--> 182\u001b[0m     values \u001b[38;5;241m=\u001b[39m \u001b[43m_astype_nansafe\u001b[49m\u001b[43m(\u001b[49m\u001b[43mvalues\u001b[49m\u001b[43m,\u001b[49m\u001b[43m \u001b[49m\u001b[43mdtype\u001b[49m\u001b[43m,\u001b[49m\u001b[43m \u001b[49m\u001b[43mcopy\u001b[49m\u001b[38;5;241;43m=\u001b[39;49m\u001b[43mcopy\u001b[49m\u001b[43m)\u001b[49m\n\u001b[0;32m    184\u001b[0m \u001b[38;5;66;03m# in pandas we don't store numpy str dtypes, so convert to object\u001b[39;00m\n\u001b[0;32m    185\u001b[0m \u001b[38;5;28;01mif\u001b[39;00m \u001b[38;5;28misinstance\u001b[39m(dtype, np\u001b[38;5;241m.\u001b[39mdtype) \u001b[38;5;129;01mand\u001b[39;00m \u001b[38;5;28missubclass\u001b[39m(values\u001b[38;5;241m.\u001b[39mdtype\u001b[38;5;241m.\u001b[39mtype, \u001b[38;5;28mstr\u001b[39m):\n",
      "File \u001b[1;32m~\\AppData\\Local\\Programs\\Python\\Python312\\Lib\\site-packages\\pandas\\core\\dtypes\\astype.py:133\u001b[0m, in \u001b[0;36m_astype_nansafe\u001b[1;34m(arr, dtype, copy, skipna)\u001b[0m\n\u001b[0;32m    129\u001b[0m     \u001b[38;5;28;01mraise\u001b[39;00m \u001b[38;5;167;01mValueError\u001b[39;00m(msg)\n\u001b[0;32m    131\u001b[0m \u001b[38;5;28;01mif\u001b[39;00m copy \u001b[38;5;129;01mor\u001b[39;00m arr\u001b[38;5;241m.\u001b[39mdtype \u001b[38;5;241m==\u001b[39m \u001b[38;5;28mobject\u001b[39m \u001b[38;5;129;01mor\u001b[39;00m dtype \u001b[38;5;241m==\u001b[39m \u001b[38;5;28mobject\u001b[39m:\n\u001b[0;32m    132\u001b[0m     \u001b[38;5;66;03m# Explicit copy, or required since NumPy can't view from / to object.\u001b[39;00m\n\u001b[1;32m--> 133\u001b[0m     \u001b[38;5;28;01mreturn\u001b[39;00m \u001b[43marr\u001b[49m\u001b[38;5;241;43m.\u001b[39;49m\u001b[43mastype\u001b[49m\u001b[43m(\u001b[49m\u001b[43mdtype\u001b[49m\u001b[43m,\u001b[49m\u001b[43m \u001b[49m\u001b[43mcopy\u001b[49m\u001b[38;5;241;43m=\u001b[39;49m\u001b[38;5;28;43;01mTrue\u001b[39;49;00m\u001b[43m)\u001b[49m\n\u001b[0;32m    135\u001b[0m \u001b[38;5;28;01mreturn\u001b[39;00m arr\u001b[38;5;241m.\u001b[39mastype(dtype, copy\u001b[38;5;241m=\u001b[39mcopy)\n",
      "\u001b[1;31mValueError\u001b[0m: could not convert string to float: '86226 kms'"
     ]
    }
   ],
   "source": [
    "# In the above section I see, the kms_driven is still in Object Form  \n",
    "# So let's convert this into a float Value \n",
    "\n",
    "data[\"kms_driven\"].astype(\"float\") # Now it is converted into floating Value"
   ]
  },
  {
   "cell_type": "code",
   "execution_count": 413,
   "id": "9fb6e3f5-c8f1-4366-b538-fe40fbd03e90",
   "metadata": {},
   "outputs": [],
   "source": [
    "## Showing another Kms ---> removing that too \n",
    "data['kms_driven'] = data['kms_driven'].str.replace(\" kms\", \"\")"
   ]
  },
  {
   "cell_type": "code",
   "execution_count": 414,
   "id": "871be4b0-ff1e-45da-af9f-a9add6184af2",
   "metadata": {},
   "outputs": [
    {
     "data": {
      "text/plain": [
       "0    86226.0\n",
       "2    60343.0\n",
       "3    26696.0\n",
       "4    65000.0\n",
       "5    65000.0\n",
       "Name: kms_driven, dtype: float64"
      ]
     },
     "execution_count": 414,
     "metadata": {},
     "output_type": "execute_result"
    }
   ],
   "source": [
    "# Now converitng to this as int value\n",
    "data[\"kms_driven\"].astype(\"float\") # Now it is converted into floating Value"
   ]
  },
  {
   "cell_type": "code",
   "execution_count": 415,
   "id": "9750ed67-c48c-44e6-9e15-985116fc8cce",
   "metadata": {},
   "outputs": [],
   "source": [
    "#Now loading this into the Dataset\n",
    "data[\"kms_driven\"]=data[\"kms_driven\"].astype(\"int\") # Now it is converted into int Value"
   ]
  },
  {
   "cell_type": "code",
   "execution_count": 416,
   "id": "06122e9d-ccf8-4097-ae47-c41df44c9783",
   "metadata": {},
   "outputs": [
    {
     "name": "stdout",
     "output_type": "stream",
     "text": [
      "<class 'pandas.core.frame.DataFrame'>\n",
      "Index: 5 entries, 0 to 5\n",
      "Data columns (total 10 columns):\n",
      " #   Column               Non-Null Count  Dtype  \n",
      "---  ------               --------------  -----  \n",
      " 0   car_name             5 non-null      object \n",
      " 1   car_prices_in_rupee  5 non-null      float64\n",
      " 2   kms_driven           5 non-null      int32  \n",
      " 3   fuel_type            5 non-null      object \n",
      " 4   transmission         5 non-null      object \n",
      " 5   ownership            5 non-null      object \n",
      " 6   manufacture          5 non-null      object \n",
      " 7   engine               5 non-null      object \n",
      " 8   Seats                5 non-null      object \n",
      " 9   company_name         5 non-null      object \n",
      "dtypes: float64(1), int32(1), object(8)\n",
      "memory usage: 592.0+ bytes\n"
     ]
    }
   ],
   "source": [
    "data.info()"
   ]
  },
  {
   "cell_type": "code",
   "execution_count": 417,
   "id": "6e3401a3-a68c-4358-87a7-b08dc3a56222",
   "metadata": {},
   "outputs": [
    {
     "data": {
      "text/html": [
       "<div>\n",
       "<style scoped>\n",
       "    .dataframe tbody tr th:only-of-type {\n",
       "        vertical-align: middle;\n",
       "    }\n",
       "\n",
       "    .dataframe tbody tr th {\n",
       "        vertical-align: top;\n",
       "    }\n",
       "\n",
       "    .dataframe thead th {\n",
       "        text-align: right;\n",
       "    }\n",
       "</style>\n",
       "<table border=\"1\" class=\"dataframe\">\n",
       "  <thead>\n",
       "    <tr style=\"text-align: right;\">\n",
       "      <th></th>\n",
       "      <th>car_name</th>\n",
       "      <th>car_prices_in_rupee</th>\n",
       "      <th>kms_driven</th>\n",
       "      <th>fuel_type</th>\n",
       "      <th>transmission</th>\n",
       "      <th>ownership</th>\n",
       "      <th>manufacture</th>\n",
       "      <th>engine</th>\n",
       "      <th>Seats</th>\n",
       "      <th>company_name</th>\n",
       "    </tr>\n",
       "  </thead>\n",
       "  <tbody>\n",
       "    <tr>\n",
       "      <th>0</th>\n",
       "      <td>Compass 2.0 Longitude Option BSIV</td>\n",
       "      <td>1003000.0</td>\n",
       "      <td>86226</td>\n",
       "      <td>Diesel</td>\n",
       "      <td>Manual</td>\n",
       "      <td>1st Owner</td>\n",
       "      <td>January-15-2017</td>\n",
       "      <td>1956 cc</td>\n",
       "      <td>5 Seats</td>\n",
       "      <td>Jeep</td>\n",
       "    </tr>\n",
       "    <tr>\n",
       "      <th>2</th>\n",
       "      <td>Camry 2.5 G</td>\n",
       "      <td>16.4</td>\n",
       "      <td>60343</td>\n",
       "      <td>Petrol</td>\n",
       "      <td>Automatic</td>\n",
       "      <td>1st Owner</td>\n",
       "      <td>January-15-2019</td>\n",
       "      <td>2494 cc</td>\n",
       "      <td>5 Seats</td>\n",
       "      <td>Toyota</td>\n",
       "    </tr>\n",
       "    <tr>\n",
       "      <th>3</th>\n",
       "      <td>Jazz VX CVT</td>\n",
       "      <td>164000000.0</td>\n",
       "      <td>26696</td>\n",
       "      <td>Petrol</td>\n",
       "      <td>Automatic</td>\n",
       "      <td>1st Owner</td>\n",
       "      <td>January-15-2020</td>\n",
       "      <td>1199 cc</td>\n",
       "      <td>5 Seats</td>\n",
       "      <td>Honda</td>\n",
       "    </tr>\n",
       "    <tr>\n",
       "      <th>4</th>\n",
       "      <td>XUV300 W6</td>\n",
       "      <td>35000.0</td>\n",
       "      <td>65000</td>\n",
       "      <td>Diesel</td>\n",
       "      <td>Automatic</td>\n",
       "      <td>2nd Owner</td>\n",
       "      <td>January-15-2021</td>\n",
       "      <td>2000 cc</td>\n",
       "      <td>2 Seats</td>\n",
       "      <td>Mahindra</td>\n",
       "    </tr>\n",
       "    <tr>\n",
       "      <th>5</th>\n",
       "      <td>XUV300 W6</td>\n",
       "      <td>35000.0</td>\n",
       "      <td>65000</td>\n",
       "      <td>Diesel</td>\n",
       "      <td>Automatic</td>\n",
       "      <td>2nd Owner</td>\n",
       "      <td>January-15-2022</td>\n",
       "      <td>2000 cc</td>\n",
       "      <td>2 Seats</td>\n",
       "      <td>Mahindra</td>\n",
       "    </tr>\n",
       "  </tbody>\n",
       "</table>\n",
       "</div>"
      ],
      "text/plain": [
       "                            car_name  car_prices_in_rupee  kms_driven  \\\n",
       "0  Compass 2.0 Longitude Option BSIV            1003000.0       86226   \n",
       "2                        Camry 2.5 G                 16.4       60343   \n",
       "3                        Jazz VX CVT          164000000.0       26696   \n",
       "4                          XUV300 W6              35000.0       65000   \n",
       "5                          XUV300 W6              35000.0       65000   \n",
       "\n",
       "  fuel_type transmission  ownership      manufacture   engine    Seats  \\\n",
       "0    Diesel       Manual  1st Owner  January-15-2017  1956 cc  5 Seats   \n",
       "2    Petrol    Automatic  1st Owner  January-15-2019  2494 cc  5 Seats   \n",
       "3    Petrol    Automatic  1st Owner  January-15-2020  1199 cc  5 Seats   \n",
       "4    Diesel    Automatic  2nd Owner  January-15-2021  2000 cc  2 Seats   \n",
       "5    Diesel    Automatic  2nd Owner  January-15-2022  2000 cc  2 Seats   \n",
       "\n",
       "  company_name  \n",
       "0         Jeep  \n",
       "2       Toyota  \n",
       "3        Honda  \n",
       "4     Mahindra  \n",
       "5     Mahindra  "
      ]
     },
     "execution_count": 417,
     "metadata": {},
     "output_type": "execute_result"
    }
   ],
   "source": [
    "data.head(5)"
   ]
  },
  {
   "cell_type": "markdown",
   "id": "ec854c5c-6e8f-459a-a10e-8b7c1eed2c43",
   "metadata": {},
   "source": [
    "# 📌 Fuel_Type , Transmissoin , Ownership ---> this will be same as it is "
   ]
  },
  {
   "cell_type": "markdown",
   "id": "f2bb0a2f-eecb-46e5-8d4a-968adc2dd00b",
   "metadata": {},
   "source": [
    "# 📌Engine"
   ]
  },
  {
   "cell_type": "code",
   "execution_count": 418,
   "id": "7c635995-61be-4a13-9821-a1205ecd3e1a",
   "metadata": {},
   "outputs": [
    {
     "data": {
      "text/plain": [
       "0    1956 cc\n",
       "2    2494 cc\n",
       "3    1199 cc\n",
       "4    2000 cc\n",
       "5    2000 cc\n",
       "Name: engine, dtype: object"
      ]
     },
     "execution_count": 418,
     "metadata": {},
     "output_type": "execute_result"
    }
   ],
   "source": [
    "# i have to remove the cc \n",
    "data[\"engine\"]"
   ]
  },
  {
   "cell_type": "code",
   "execution_count": 419,
   "id": "f2628246-5724-48b7-a190-8c774b01f662",
   "metadata": {},
   "outputs": [],
   "source": [
    "## Removing the cc after space ---> removing that too \n",
    "data['engine'] = data['engine'].str.replace(\" cc\", \"\")"
   ]
  },
  {
   "cell_type": "code",
   "execution_count": 420,
   "id": "26a90640-f85b-43c1-96f7-3de5b927e226",
   "metadata": {},
   "outputs": [
    {
     "data": {
      "text/plain": [
       "0    1956.0\n",
       "2    2494.0\n",
       "3    1199.0\n",
       "4    2000.0\n",
       "5    2000.0\n",
       "Name: engine, dtype: float64"
      ]
     },
     "execution_count": 420,
     "metadata": {},
     "output_type": "execute_result"
    }
   ],
   "source": [
    "# Now converitng to this as int value\n",
    "data[\"engine\"].astype(\"float\") # Now it is converted into floating Value"
   ]
  },
  {
   "cell_type": "code",
   "execution_count": 421,
   "id": "78a81fdf-34f6-434d-b2bf-4a6ea651d955",
   "metadata": {},
   "outputs": [],
   "source": [
    "#Now loading this into the Dataset\n",
    "data[\"engine\"]=data[\"engine\"].astype(\"int\") # Now it is converted into int Value"
   ]
  },
  {
   "cell_type": "code",
   "execution_count": 422,
   "id": "483ef654-ec0e-46dd-a8ce-27fed37d93f1",
   "metadata": {},
   "outputs": [
    {
     "data": {
      "text/html": [
       "<div>\n",
       "<style scoped>\n",
       "    .dataframe tbody tr th:only-of-type {\n",
       "        vertical-align: middle;\n",
       "    }\n",
       "\n",
       "    .dataframe tbody tr th {\n",
       "        vertical-align: top;\n",
       "    }\n",
       "\n",
       "    .dataframe thead th {\n",
       "        text-align: right;\n",
       "    }\n",
       "</style>\n",
       "<table border=\"1\" class=\"dataframe\">\n",
       "  <thead>\n",
       "    <tr style=\"text-align: right;\">\n",
       "      <th></th>\n",
       "      <th>car_name</th>\n",
       "      <th>car_prices_in_rupee</th>\n",
       "      <th>kms_driven</th>\n",
       "      <th>fuel_type</th>\n",
       "      <th>transmission</th>\n",
       "      <th>ownership</th>\n",
       "      <th>manufacture</th>\n",
       "      <th>engine</th>\n",
       "      <th>Seats</th>\n",
       "      <th>company_name</th>\n",
       "    </tr>\n",
       "  </thead>\n",
       "  <tbody>\n",
       "    <tr>\n",
       "      <th>0</th>\n",
       "      <td>Compass 2.0 Longitude Option BSIV</td>\n",
       "      <td>1003000.0</td>\n",
       "      <td>86226</td>\n",
       "      <td>Diesel</td>\n",
       "      <td>Manual</td>\n",
       "      <td>1st Owner</td>\n",
       "      <td>January-15-2017</td>\n",
       "      <td>1956</td>\n",
       "      <td>5 Seats</td>\n",
       "      <td>Jeep</td>\n",
       "    </tr>\n",
       "    <tr>\n",
       "      <th>2</th>\n",
       "      <td>Camry 2.5 G</td>\n",
       "      <td>16.4</td>\n",
       "      <td>60343</td>\n",
       "      <td>Petrol</td>\n",
       "      <td>Automatic</td>\n",
       "      <td>1st Owner</td>\n",
       "      <td>January-15-2019</td>\n",
       "      <td>2494</td>\n",
       "      <td>5 Seats</td>\n",
       "      <td>Toyota</td>\n",
       "    </tr>\n",
       "  </tbody>\n",
       "</table>\n",
       "</div>"
      ],
      "text/plain": [
       "                            car_name  car_prices_in_rupee  kms_driven  \\\n",
       "0  Compass 2.0 Longitude Option BSIV            1003000.0       86226   \n",
       "2                        Camry 2.5 G                 16.4       60343   \n",
       "\n",
       "  fuel_type transmission  ownership      manufacture  engine    Seats  \\\n",
       "0    Diesel       Manual  1st Owner  January-15-2017    1956  5 Seats   \n",
       "2    Petrol    Automatic  1st Owner  January-15-2019    2494  5 Seats   \n",
       "\n",
       "  company_name  \n",
       "0         Jeep  \n",
       "2       Toyota  "
      ]
     },
     "execution_count": 422,
     "metadata": {},
     "output_type": "execute_result"
    }
   ],
   "source": [
    "data.head(2)"
   ]
  },
  {
   "cell_type": "markdown",
   "id": "6180ca00-85ed-4ebf-93d7-16debadeb56c",
   "metadata": {},
   "source": [
    "# 📌Seats "
   ]
  },
  {
   "cell_type": "code",
   "execution_count": 423,
   "id": "9f000f1f-a417-4142-953a-e73043efc58e",
   "metadata": {},
   "outputs": [
    {
     "data": {
      "text/plain": [
       "0    5 Seats\n",
       "2    5 Seats\n",
       "3    5 Seats\n",
       "4    2 Seats\n",
       "5    2 Seats\n",
       "Name: Seats, dtype: object"
      ]
     },
     "execution_count": 423,
     "metadata": {},
     "output_type": "execute_result"
    }
   ],
   "source": [
    "data['Seats']"
   ]
  },
  {
   "cell_type": "code",
   "execution_count": 424,
   "id": "b3b14bf6-2496-40ca-be4d-7c19858224d0",
   "metadata": {},
   "outputs": [],
   "source": [
    "# Removing the seats after space ---> removing this too \n",
    "data['Seats'] = data['Seats'].str.replace(\" Seats\", \"\")"
   ]
  },
  {
   "cell_type": "code",
   "execution_count": 425,
   "id": "a742a6f7-b87a-4117-80f9-d5a6c513db5e",
   "metadata": {},
   "outputs": [
    {
     "data": {
      "text/plain": [
       "0    5.0\n",
       "2    5.0\n",
       "3    5.0\n",
       "4    2.0\n",
       "5    2.0\n",
       "Name: Seats, dtype: float64"
      ]
     },
     "execution_count": 425,
     "metadata": {},
     "output_type": "execute_result"
    }
   ],
   "source": [
    "# Now converitng to this as int value\n",
    "data[\"Seats\"].astype(\"float\") # Now it is converted into floating Value"
   ]
  },
  {
   "cell_type": "code",
   "execution_count": 426,
   "id": "033634e3-a353-4456-9164-6e3cc534d0b9",
   "metadata": {},
   "outputs": [],
   "source": [
    "#Now loading this into the Dataset\n",
    "data[\"Seats\"]=data[\"Seats\"].astype(\"int\") # Now it is converted into int Value"
   ]
  },
  {
   "cell_type": "code",
   "execution_count": 427,
   "id": "1fb07036-e250-4bb4-b102-24bc98de253a",
   "metadata": {},
   "outputs": [
    {
     "name": "stdout",
     "output_type": "stream",
     "text": [
      "<class 'pandas.core.frame.DataFrame'>\n",
      "Index: 5 entries, 0 to 5\n",
      "Data columns (total 10 columns):\n",
      " #   Column               Non-Null Count  Dtype  \n",
      "---  ------               --------------  -----  \n",
      " 0   car_name             5 non-null      object \n",
      " 1   car_prices_in_rupee  5 non-null      float64\n",
      " 2   kms_driven           5 non-null      int32  \n",
      " 3   fuel_type            5 non-null      object \n",
      " 4   transmission         5 non-null      object \n",
      " 5   ownership            5 non-null      object \n",
      " 6   manufacture          5 non-null      object \n",
      " 7   engine               5 non-null      int32  \n",
      " 8   Seats                5 non-null      int32  \n",
      " 9   company_name         5 non-null      object \n",
      "dtypes: float64(1), int32(3), object(6)\n",
      "memory usage: 552.0+ bytes\n"
     ]
    }
   ],
   "source": [
    "data.info()"
   ]
  },
  {
   "cell_type": "code",
   "execution_count": 428,
   "id": "bdc2842d-1704-45b4-a871-b89ea5253179",
   "metadata": {},
   "outputs": [
    {
     "data": {
      "text/html": [
       "<div>\n",
       "<style scoped>\n",
       "    .dataframe tbody tr th:only-of-type {\n",
       "        vertical-align: middle;\n",
       "    }\n",
       "\n",
       "    .dataframe tbody tr th {\n",
       "        vertical-align: top;\n",
       "    }\n",
       "\n",
       "    .dataframe thead th {\n",
       "        text-align: right;\n",
       "    }\n",
       "</style>\n",
       "<table border=\"1\" class=\"dataframe\">\n",
       "  <thead>\n",
       "    <tr style=\"text-align: right;\">\n",
       "      <th></th>\n",
       "      <th>car_name</th>\n",
       "      <th>car_prices_in_rupee</th>\n",
       "      <th>kms_driven</th>\n",
       "      <th>fuel_type</th>\n",
       "      <th>transmission</th>\n",
       "      <th>ownership</th>\n",
       "      <th>manufacture</th>\n",
       "      <th>engine</th>\n",
       "      <th>Seats</th>\n",
       "      <th>company_name</th>\n",
       "    </tr>\n",
       "  </thead>\n",
       "  <tbody>\n",
       "    <tr>\n",
       "      <th>0</th>\n",
       "      <td>Compass 2.0 Longitude Option BSIV</td>\n",
       "      <td>1003000.0</td>\n",
       "      <td>86226</td>\n",
       "      <td>Diesel</td>\n",
       "      <td>Manual</td>\n",
       "      <td>1st Owner</td>\n",
       "      <td>January-15-2017</td>\n",
       "      <td>1956</td>\n",
       "      <td>5</td>\n",
       "      <td>Jeep</td>\n",
       "    </tr>\n",
       "    <tr>\n",
       "      <th>2</th>\n",
       "      <td>Camry 2.5 G</td>\n",
       "      <td>16.4</td>\n",
       "      <td>60343</td>\n",
       "      <td>Petrol</td>\n",
       "      <td>Automatic</td>\n",
       "      <td>1st Owner</td>\n",
       "      <td>January-15-2019</td>\n",
       "      <td>2494</td>\n",
       "      <td>5</td>\n",
       "      <td>Toyota</td>\n",
       "    </tr>\n",
       "  </tbody>\n",
       "</table>\n",
       "</div>"
      ],
      "text/plain": [
       "                            car_name  car_prices_in_rupee  kms_driven  \\\n",
       "0  Compass 2.0 Longitude Option BSIV            1003000.0       86226   \n",
       "2                        Camry 2.5 G                 16.4       60343   \n",
       "\n",
       "  fuel_type transmission  ownership      manufacture  engine  Seats  \\\n",
       "0    Diesel       Manual  1st Owner  January-15-2017    1956      5   \n",
       "2    Petrol    Automatic  1st Owner  January-15-2019    2494      5   \n",
       "\n",
       "  company_name  \n",
       "0         Jeep  \n",
       "2       Toyota  "
      ]
     },
     "execution_count": 428,
     "metadata": {},
     "output_type": "execute_result"
    }
   ],
   "source": [
    "data.head(2)"
   ]
  },
  {
   "cell_type": "markdown",
   "id": "e635db85-54b7-426b-87c6-f18fd6c185cc",
   "metadata": {},
   "source": [
    "# 📌Manufacture or Date --> 15/january/2017  or 15/1/2017"
   ]
  },
  {
   "cell_type": "code",
   "execution_count": 429,
   "id": "2ffadf6e-62fe-4d89-aeff-ab2c155d57c0",
   "metadata": {},
   "outputs": [
    {
     "data": {
      "text/plain": [
       "0    January-15-2017\n",
       "2    January-15-2019\n",
       "3    January-15-2020\n",
       "4    January-15-2021\n",
       "5    January-15-2022\n",
       "Name: manufacture, dtype: object"
      ]
     },
     "execution_count": 429,
     "metadata": {},
     "output_type": "execute_result"
    }
   ],
   "source": [
    "data[\"manufacture\"]"
   ]
  },
  {
   "cell_type": "code",
   "execution_count": 430,
   "id": "18aca5cd-20ca-4a0b-8f94-a583abac7700",
   "metadata": {},
   "outputs": [
    {
     "data": {
      "text/plain": [
       "0   2017-01-15\n",
       "2   2019-01-15\n",
       "3   2020-01-15\n",
       "4   2021-01-15\n",
       "5   2022-01-15\n",
       "Name: manufacture, dtype: datetime64[ns]"
      ]
     },
     "execution_count": 430,
     "metadata": {},
     "output_type": "execute_result"
    }
   ],
   "source": [
    "# Pandas pre-defined Date format Funciton \n",
    "pd.to_datetime(data['manufacture'])"
   ]
  },
  {
   "cell_type": "code",
   "execution_count": 431,
   "id": "1ffabdcf-938a-4106-85e9-b7a89852b523",
   "metadata": {},
   "outputs": [
    {
     "name": "stdout",
     "output_type": "stream",
     "text": [
      "<class 'pandas.core.frame.DataFrame'>\n",
      "Index: 5 entries, 0 to 5\n",
      "Data columns (total 10 columns):\n",
      " #   Column               Non-Null Count  Dtype  \n",
      "---  ------               --------------  -----  \n",
      " 0   car_name             5 non-null      object \n",
      " 1   car_prices_in_rupee  5 non-null      float64\n",
      " 2   kms_driven           5 non-null      int32  \n",
      " 3   fuel_type            5 non-null      object \n",
      " 4   transmission         5 non-null      object \n",
      " 5   ownership            5 non-null      object \n",
      " 6   manufacture          5 non-null      object \n",
      " 7   engine               5 non-null      int32  \n",
      " 8   Seats                5 non-null      int32  \n",
      " 9   company_name         5 non-null      object \n",
      "dtypes: float64(1), int32(3), object(6)\n",
      "memory usage: 552.0+ bytes\n"
     ]
    }
   ],
   "source": [
    "data.info()"
   ]
  },
  {
   "cell_type": "markdown",
   "id": "80586b24-64db-494a-9ccf-b87bc5154537",
   "metadata": {},
   "source": [
    "# ✅ Finally impriting the Cleaned Data "
   ]
  },
  {
   "cell_type": "code",
   "execution_count": 432,
   "id": "784efe0c-fab5-4c8a-ace7-759ec0a81baa",
   "metadata": {},
   "outputs": [],
   "source": [
    "dataset.to_csv(r'C:\\Users\\hirak\\Downloads\\Data Cleaning For Data Analyst\\Cleaned_Car_price_Data.csv')"
   ]
  },
  {
   "cell_type": "code",
   "execution_count": null,
   "id": "a8c17281-391d-4fc9-954c-7ffd0c343766",
   "metadata": {},
   "outputs": [],
   "source": []
  },
  {
   "cell_type": "code",
   "execution_count": null,
   "id": "c550b19b-94b5-4cac-94c8-9a14bcae5bad",
   "metadata": {},
   "outputs": [],
   "source": []
  },
  {
   "cell_type": "code",
   "execution_count": null,
   "id": "0c69a2b1-b2df-42c0-a793-530aee7f4f75",
   "metadata": {},
   "outputs": [],
   "source": []
  },
  {
   "cell_type": "code",
   "execution_count": null,
   "id": "71ba2920-efa9-45c1-904c-7799746f83b2",
   "metadata": {},
   "outputs": [],
   "source": []
  },
  {
   "cell_type": "code",
   "execution_count": null,
   "id": "1ab26448-e887-4fda-8815-168ea7077c86",
   "metadata": {},
   "outputs": [],
   "source": []
  },
  {
   "cell_type": "code",
   "execution_count": null,
   "id": "a66a6b08-2d04-43ad-ac71-eba105471797",
   "metadata": {},
   "outputs": [],
   "source": []
  },
  {
   "cell_type": "code",
   "execution_count": null,
   "id": "f915074c-628f-40ae-b366-77ae5adb7785",
   "metadata": {},
   "outputs": [],
   "source": []
  },
  {
   "cell_type": "code",
   "execution_count": null,
   "id": "13349007-61a9-4b56-bfb8-e06b1742140e",
   "metadata": {},
   "outputs": [],
   "source": []
  }
 ],
 "metadata": {
  "kernelspec": {
   "display_name": "Python 3 (ipykernel)",
   "language": "python",
   "name": "python3"
  },
  "language_info": {
   "codemirror_mode": {
    "name": "ipython",
    "version": 3
   },
   "file_extension": ".py",
   "mimetype": "text/x-python",
   "name": "python",
   "nbconvert_exporter": "python",
   "pygments_lexer": "ipython3",
   "version": "3.12.3"
  }
 },
 "nbformat": 4,
 "nbformat_minor": 5
}
